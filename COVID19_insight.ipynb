{
 "cells": [
  {
   "cell_type": "markdown",
   "id": "dba10929",
   "metadata": {},
   "source": [
    "# COVID19 Insight"
   ]
  },
  {
   "cell_type": "markdown",
   "id": "570cf155",
   "metadata": {},
   "source": [
    "## Use Google Trends API to create:\n",
    "### - a data table\n",
    "### - an insights narrative\n",
    "### - to help communicate what you believe to be important information"
   ]
  },
  {
   "cell_type": "code",
   "execution_count": 1,
   "id": "28944038",
   "metadata": {
    "collapsed": true
   },
   "outputs": [
    {
     "name": "stdout",
     "output_type": "stream",
     "text": [
      "Requirement already satisfied: pytrends in /Users/SA/opt/anaconda3/lib/python3.9/site-packages (4.8.0)\n",
      "Requirement already satisfied: pandas>=0.25 in /Users/SA/opt/anaconda3/lib/python3.9/site-packages (from pytrends) (1.3.4)\n",
      "Requirement already satisfied: lxml in /Users/SA/opt/anaconda3/lib/python3.9/site-packages (from pytrends) (4.6.3)\n",
      "Requirement already satisfied: requests>=2.0 in /Users/SA/opt/anaconda3/lib/python3.9/site-packages (from pytrends) (2.26.0)\n",
      "Requirement already satisfied: python-dateutil>=2.7.3 in /Users/SA/opt/anaconda3/lib/python3.9/site-packages (from pandas>=0.25->pytrends) (2.8.2)\n",
      "Requirement already satisfied: pytz>=2017.3 in /Users/SA/opt/anaconda3/lib/python3.9/site-packages (from pandas>=0.25->pytrends) (2021.3)\n",
      "Requirement already satisfied: numpy>=1.17.3 in /Users/SA/opt/anaconda3/lib/python3.9/site-packages (from pandas>=0.25->pytrends) (1.20.3)\n",
      "Requirement already satisfied: six>=1.5 in /Users/SA/opt/anaconda3/lib/python3.9/site-packages (from python-dateutil>=2.7.3->pandas>=0.25->pytrends) (1.16.0)\n",
      "Requirement already satisfied: idna<4,>=2.5 in /Users/SA/opt/anaconda3/lib/python3.9/site-packages (from requests>=2.0->pytrends) (3.2)\n",
      "Requirement already satisfied: certifi>=2017.4.17 in /Users/SA/opt/anaconda3/lib/python3.9/site-packages (from requests>=2.0->pytrends) (2021.10.8)\n",
      "Requirement already satisfied: charset-normalizer~=2.0.0 in /Users/SA/opt/anaconda3/lib/python3.9/site-packages (from requests>=2.0->pytrends) (2.0.4)\n",
      "Requirement already satisfied: urllib3<1.27,>=1.21.1 in /Users/SA/opt/anaconda3/lib/python3.9/site-packages (from requests>=2.0->pytrends) (1.26.7)\n",
      "Note: you may need to restart the kernel to use updated packages.\n"
     ]
    }
   ],
   "source": [
    "pip install pytrends"
   ]
  },
  {
   "cell_type": "code",
   "execution_count": 2,
   "id": "820a823c",
   "metadata": {},
   "outputs": [],
   "source": [
    "import pandas as pd\n",
    "import matplotlib.pyplot as plt"
   ]
  },
  {
   "cell_type": "code",
   "execution_count": 7,
   "id": "a1174759",
   "metadata": {
    "collapsed": true
   },
   "outputs": [
    {
     "data": {
      "text/html": [
       "<div>\n",
       "<style scoped>\n",
       "    .dataframe tbody tr th:only-of-type {\n",
       "        vertical-align: middle;\n",
       "    }\n",
       "\n",
       "    .dataframe tbody tr th {\n",
       "        vertical-align: top;\n",
       "    }\n",
       "\n",
       "    .dataframe thead th {\n",
       "        text-align: right;\n",
       "    }\n",
       "</style>\n",
       "<table border=\"1\" class=\"dataframe\">\n",
       "  <thead>\n",
       "    <tr style=\"text-align: right;\">\n",
       "      <th></th>\n",
       "      <th>date</th>\n",
       "      <th>county</th>\n",
       "      <th>state</th>\n",
       "      <th>fips</th>\n",
       "      <th>cases</th>\n",
       "      <th>deaths</th>\n",
       "    </tr>\n",
       "  </thead>\n",
       "  <tbody>\n",
       "    <tr>\n",
       "      <th>0</th>\n",
       "      <td>2020-01-21</td>\n",
       "      <td>Snohomish</td>\n",
       "      <td>Washington</td>\n",
       "      <td>53061.0</td>\n",
       "      <td>1</td>\n",
       "      <td>0.0</td>\n",
       "    </tr>\n",
       "    <tr>\n",
       "      <th>1</th>\n",
       "      <td>2020-01-22</td>\n",
       "      <td>Snohomish</td>\n",
       "      <td>Washington</td>\n",
       "      <td>53061.0</td>\n",
       "      <td>1</td>\n",
       "      <td>0.0</td>\n",
       "    </tr>\n",
       "    <tr>\n",
       "      <th>2</th>\n",
       "      <td>2020-01-23</td>\n",
       "      <td>Snohomish</td>\n",
       "      <td>Washington</td>\n",
       "      <td>53061.0</td>\n",
       "      <td>1</td>\n",
       "      <td>0.0</td>\n",
       "    </tr>\n",
       "    <tr>\n",
       "      <th>3</th>\n",
       "      <td>2020-01-24</td>\n",
       "      <td>Cook</td>\n",
       "      <td>Illinois</td>\n",
       "      <td>17031.0</td>\n",
       "      <td>1</td>\n",
       "      <td>0.0</td>\n",
       "    </tr>\n",
       "    <tr>\n",
       "      <th>4</th>\n",
       "      <td>2020-01-24</td>\n",
       "      <td>Snohomish</td>\n",
       "      <td>Washington</td>\n",
       "      <td>53061.0</td>\n",
       "      <td>1</td>\n",
       "      <td>0.0</td>\n",
       "    </tr>\n",
       "    <tr>\n",
       "      <th>...</th>\n",
       "      <td>...</td>\n",
       "      <td>...</td>\n",
       "      <td>...</td>\n",
       "      <td>...</td>\n",
       "      <td>...</td>\n",
       "      <td>...</td>\n",
       "    </tr>\n",
       "    <tr>\n",
       "      <th>290224</th>\n",
       "      <td>2020-06-30</td>\n",
       "      <td>Sweetwater</td>\n",
       "      <td>Wyoming</td>\n",
       "      <td>56037.0</td>\n",
       "      <td>90</td>\n",
       "      <td>0.0</td>\n",
       "    </tr>\n",
       "    <tr>\n",
       "      <th>290225</th>\n",
       "      <td>2020-06-30</td>\n",
       "      <td>Teton</td>\n",
       "      <td>Wyoming</td>\n",
       "      <td>56039.0</td>\n",
       "      <td>129</td>\n",
       "      <td>1.0</td>\n",
       "    </tr>\n",
       "    <tr>\n",
       "      <th>290226</th>\n",
       "      <td>2020-06-30</td>\n",
       "      <td>Uinta</td>\n",
       "      <td>Wyoming</td>\n",
       "      <td>56041.0</td>\n",
       "      <td>176</td>\n",
       "      <td>0.0</td>\n",
       "    </tr>\n",
       "    <tr>\n",
       "      <th>290227</th>\n",
       "      <td>2020-06-30</td>\n",
       "      <td>Washakie</td>\n",
       "      <td>Wyoming</td>\n",
       "      <td>56043.0</td>\n",
       "      <td>38</td>\n",
       "      <td>5.0</td>\n",
       "    </tr>\n",
       "    <tr>\n",
       "      <th>290228</th>\n",
       "      <td>2020-06-30</td>\n",
       "      <td>Weston</td>\n",
       "      <td>Wyoming</td>\n",
       "      <td>56045.0</td>\n",
       "      <td>2</td>\n",
       "      <td>0.0</td>\n",
       "    </tr>\n",
       "  </tbody>\n",
       "</table>\n",
       "<p>290229 rows × 6 columns</p>\n",
       "</div>"
      ],
      "text/plain": [
       "              date      county       state     fips  cases  deaths\n",
       "0       2020-01-21   Snohomish  Washington  53061.0      1     0.0\n",
       "1       2020-01-22   Snohomish  Washington  53061.0      1     0.0\n",
       "2       2020-01-23   Snohomish  Washington  53061.0      1     0.0\n",
       "3       2020-01-24        Cook    Illinois  17031.0      1     0.0\n",
       "4       2020-01-24   Snohomish  Washington  53061.0      1     0.0\n",
       "...            ...         ...         ...      ...    ...     ...\n",
       "290224  2020-06-30  Sweetwater     Wyoming  56037.0     90     0.0\n",
       "290225  2020-06-30       Teton     Wyoming  56039.0    129     1.0\n",
       "290226  2020-06-30       Uinta     Wyoming  56041.0    176     0.0\n",
       "290227  2020-06-30    Washakie     Wyoming  56043.0     38     5.0\n",
       "290228  2020-06-30      Weston     Wyoming  56045.0      2     0.0\n",
       "\n",
       "[290229 rows x 6 columns]"
      ]
     },
     "execution_count": 7,
     "metadata": {},
     "output_type": "execute_result"
    }
   ],
   "source": [
    "nytimes_2020_Jan_to_Jun = pd.read_csv (r'Data/NYTimes/us-counties-2020-Jan-Jun.txt')\n",
    "nytimes_2020_Jan_to_Jun.to_csv (r'Data/NYTimes/us-counties-2020-Jan-Jun.csv', index=None)\n",
    "nytimes_2020_Jan_to_Jun"
   ]
  },
  {
   "cell_type": "code",
   "execution_count": 8,
   "id": "a5f55cb1",
   "metadata": {},
   "outputs": [],
   "source": [
    "nytimes_2020_Jan_to_Jun = nytimes_2020_Jan_to_Jun.drop(['county','fips'], axis=1)"
   ]
  },
  {
   "cell_type": "code",
   "execution_count": 9,
   "id": "7d3ae5f6",
   "metadata": {},
   "outputs": [],
   "source": [
    "nytimes_2020_Jan_to_Jun['date'] = pd.to_datetime(nytimes_2020_Jan_to_Jun[\"date\"], infer_datetime_format=True)"
   ]
  },
  {
   "cell_type": "code",
   "execution_count": 10,
   "id": "b702ef8b",
   "metadata": {
    "collapsed": true
   },
   "outputs": [
    {
     "data": {
      "text/plain": [
       "0        2020-01-21\n",
       "1        2020-01-22\n",
       "2        2020-01-23\n",
       "3        2020-01-24\n",
       "4        2020-01-24\n",
       "            ...    \n",
       "290224   2020-06-30\n",
       "290225   2020-06-30\n",
       "290226   2020-06-30\n",
       "290227   2020-06-30\n",
       "290228   2020-06-30\n",
       "Name: date, Length: 290229, dtype: datetime64[ns]"
      ]
     },
     "execution_count": 10,
     "metadata": {},
     "output_type": "execute_result"
    }
   ],
   "source": [
    "nytimes_2020_Jan_to_Jun['date']"
   ]
  },
  {
   "cell_type": "code",
   "execution_count": 11,
   "id": "90dca8c5",
   "metadata": {},
   "outputs": [
    {
     "data": {
      "text/plain": [
       "131448976"
      ]
     },
     "execution_count": 11,
     "metadata": {},
     "output_type": "execute_result"
    }
   ],
   "source": [
    "nytimes_2020_Jan_to_Jun['cases'].sum()"
   ]
  },
  {
   "cell_type": "code",
   "execution_count": 12,
   "id": "e16bf893",
   "metadata": {
    "scrolled": true
   },
   "outputs": [
    {
     "data": {
      "text/plain": [
       "7204945.0"
      ]
     },
     "execution_count": 12,
     "metadata": {},
     "output_type": "execute_result"
    }
   ],
   "source": [
    "nytimes_2020_Jan_to_Jun['deaths'].sum()"
   ]
  },
  {
   "cell_type": "code",
   "execution_count": 13,
   "id": "2524371f",
   "metadata": {
    "scrolled": true
   },
   "outputs": [
    {
     "data": {
      "image/png": "[encoded data removed]",
      "text/plain": [
       "<Figure size 432x288 with 1 Axes>"
      ]
     },
     "metadata": {
      "needs_background": "light"
     },
     "output_type": "display_data"
    }
   ],
   "source": [
    "#nytimes_2020_Jan_to_Jun.plot(x='date', y='cases', kind = 'line', use_index=True)\n",
    "nytimes_2020_Jan_to_Jun.plot(x='date', kind = 'line', use_index=True)\n",
    "plt.show()"
   ]
  },
  {
   "cell_type": "code",
   "execution_count": 15,
   "id": "ea9d56f4",
   "metadata": {
    "collapsed": true
   },
   "outputs": [
    {
     "data": {
      "text/html": [
       "<div>\n",
       "<style scoped>\n",
       "    .dataframe tbody tr th:only-of-type {\n",
       "        vertical-align: middle;\n",
       "    }\n",
       "\n",
       "    .dataframe tbody tr th {\n",
       "        vertical-align: top;\n",
       "    }\n",
       "\n",
       "    .dataframe thead th {\n",
       "        text-align: right;\n",
       "    }\n",
       "</style>\n",
       "<table border=\"1\" class=\"dataframe\">\n",
       "  <thead>\n",
       "    <tr style=\"text-align: right;\">\n",
       "      <th></th>\n",
       "      <th>date</th>\n",
       "      <th>county</th>\n",
       "      <th>state</th>\n",
       "      <th>fips</th>\n",
       "      <th>cases</th>\n",
       "      <th>deaths</th>\n",
       "    </tr>\n",
       "  </thead>\n",
       "  <tbody>\n",
       "    <tr>\n",
       "      <th>0</th>\n",
       "      <td>2022-01-01</td>\n",
       "      <td>Autauga</td>\n",
       "      <td>Alabama</td>\n",
       "      <td>1001.0</td>\n",
       "      <td>11018</td>\n",
       "      <td>160.0</td>\n",
       "    </tr>\n",
       "    <tr>\n",
       "      <th>1</th>\n",
       "      <td>2022-01-01</td>\n",
       "      <td>Baldwin</td>\n",
       "      <td>Alabama</td>\n",
       "      <td>1003.0</td>\n",
       "      <td>39911</td>\n",
       "      <td>593.0</td>\n",
       "    </tr>\n",
       "    <tr>\n",
       "      <th>2</th>\n",
       "      <td>2022-01-01</td>\n",
       "      <td>Barbour</td>\n",
       "      <td>Alabama</td>\n",
       "      <td>1005.0</td>\n",
       "      <td>3860</td>\n",
       "      <td>81.0</td>\n",
       "    </tr>\n",
       "    <tr>\n",
       "      <th>3</th>\n",
       "      <td>2022-01-01</td>\n",
       "      <td>Bibb</td>\n",
       "      <td>Alabama</td>\n",
       "      <td>1007.0</td>\n",
       "      <td>4533</td>\n",
       "      <td>95.0</td>\n",
       "    </tr>\n",
       "    <tr>\n",
       "      <th>4</th>\n",
       "      <td>2022-01-01</td>\n",
       "      <td>Blount</td>\n",
       "      <td>Alabama</td>\n",
       "      <td>1009.0</td>\n",
       "      <td>11256</td>\n",
       "      <td>198.0</td>\n",
       "    </tr>\n",
       "    <tr>\n",
       "      <th>...</th>\n",
       "      <td>...</td>\n",
       "      <td>...</td>\n",
       "      <td>...</td>\n",
       "      <td>...</td>\n",
       "      <td>...</td>\n",
       "      <td>...</td>\n",
       "    </tr>\n",
       "    <tr>\n",
       "      <th>422943</th>\n",
       "      <td>2022-05-10</td>\n",
       "      <td>Sweetwater</td>\n",
       "      <td>Wyoming</td>\n",
       "      <td>56037.0</td>\n",
       "      <td>11088</td>\n",
       "      <td>126.0</td>\n",
       "    </tr>\n",
       "    <tr>\n",
       "      <th>422944</th>\n",
       "      <td>2022-05-10</td>\n",
       "      <td>Teton</td>\n",
       "      <td>Wyoming</td>\n",
       "      <td>56039.0</td>\n",
       "      <td>10074</td>\n",
       "      <td>16.0</td>\n",
       "    </tr>\n",
       "    <tr>\n",
       "      <th>422945</th>\n",
       "      <td>2022-05-10</td>\n",
       "      <td>Uinta</td>\n",
       "      <td>Wyoming</td>\n",
       "      <td>56041.0</td>\n",
       "      <td>5643</td>\n",
       "      <td>39.0</td>\n",
       "    </tr>\n",
       "    <tr>\n",
       "      <th>422946</th>\n",
       "      <td>2022-05-10</td>\n",
       "      <td>Washakie</td>\n",
       "      <td>Wyoming</td>\n",
       "      <td>56043.0</td>\n",
       "      <td>2358</td>\n",
       "      <td>44.0</td>\n",
       "    </tr>\n",
       "    <tr>\n",
       "      <th>422947</th>\n",
       "      <td>2022-05-10</td>\n",
       "      <td>Weston</td>\n",
       "      <td>Wyoming</td>\n",
       "      <td>56045.0</td>\n",
       "      <td>1588</td>\n",
       "      <td>18.0</td>\n",
       "    </tr>\n",
       "  </tbody>\n",
       "</table>\n",
       "<p>422948 rows × 6 columns</p>\n",
       "</div>"
      ],
      "text/plain": [
       "              date      county    state     fips  cases  deaths\n",
       "0       2022-01-01     Autauga  Alabama   1001.0  11018   160.0\n",
       "1       2022-01-01     Baldwin  Alabama   1003.0  39911   593.0\n",
       "2       2022-01-01     Barbour  Alabama   1005.0   3860    81.0\n",
       "3       2022-01-01        Bibb  Alabama   1007.0   4533    95.0\n",
       "4       2022-01-01      Blount  Alabama   1009.0  11256   198.0\n",
       "...            ...         ...      ...      ...    ...     ...\n",
       "422943  2022-05-10  Sweetwater  Wyoming  56037.0  11088   126.0\n",
       "422944  2022-05-10       Teton  Wyoming  56039.0  10074    16.0\n",
       "422945  2022-05-10       Uinta  Wyoming  56041.0   5643    39.0\n",
       "422946  2022-05-10    Washakie  Wyoming  56043.0   2358    44.0\n",
       "422947  2022-05-10      Weston  Wyoming  56045.0   1588    18.0\n",
       "\n",
       "[422948 rows x 6 columns]"
      ]
     },
     "execution_count": 15,
     "metadata": {},
     "output_type": "execute_result"
    }
   ],
   "source": [
    "nytimes_2022_Jan_to_May = pd.read_csv (r'Data/NYTimes/us-counties-2022-Jan-May.txt')\n",
    "nytimes_2022_Jan_to_May.to_csv (r'Data/NYTimes/us-counties-2022-Jan-May.csv', index=None)\n",
    "nytimes_2022_Jan_to_May"
   ]
  },
  {
   "cell_type": "code",
   "execution_count": 16,
   "id": "8e7df783",
   "metadata": {},
   "outputs": [],
   "source": [
    "nytimes_2022_Jan_to_May = nytimes_2022_Jan_to_May.drop(['county','fips'], axis=1)"
   ]
  },
  {
   "cell_type": "code",
   "execution_count": 17,
   "id": "13e86fd1",
   "metadata": {},
   "outputs": [],
   "source": [
    "nytimes_2022_Jan_to_May['date'] = pd.to_datetime(nytimes_2022_Jan_to_May[\"date\"], infer_datetime_format=True)"
   ]
  },
  {
   "cell_type": "code",
   "execution_count": 18,
   "id": "ebfe1192",
   "metadata": {
    "collapsed": true
   },
   "outputs": [
    {
     "data": {
      "text/plain": [
       "0        2022-01-01\n",
       "1        2022-01-01\n",
       "2        2022-01-01\n",
       "3        2022-01-01\n",
       "4        2022-01-01\n",
       "            ...    \n",
       "422943   2022-05-10\n",
       "422944   2022-05-10\n",
       "422945   2022-05-10\n",
       "422946   2022-05-10\n",
       "422947   2022-05-10\n",
       "Name: date, Length: 422948, dtype: datetime64[ns]"
      ]
     },
     "execution_count": 18,
     "metadata": {},
     "output_type": "execute_result"
    }
   ],
   "source": [
    "nytimes_2022_Jan_to_May['date']"
   ]
  },
  {
   "cell_type": "code",
   "execution_count": 19,
   "id": "ea03feaf",
   "metadata": {},
   "outputs": [
    {
     "data": {
      "text/plain": [
       "9909735772"
      ]
     },
     "execution_count": 19,
     "metadata": {},
     "output_type": "execute_result"
    }
   ],
   "source": [
    "nytimes_2022_Jan_to_May['cases'].sum()"
   ]
  },
  {
   "cell_type": "code",
   "execution_count": 20,
   "id": "546fdc95",
   "metadata": {
    "scrolled": true
   },
   "outputs": [
    {
     "data": {
      "text/plain": [
       "121778757.0"
      ]
     },
     "execution_count": 20,
     "metadata": {},
     "output_type": "execute_result"
    }
   ],
   "source": [
    "nytimes_2022_Jan_to_May['deaths'].sum()"
   ]
  },
  {
   "cell_type": "code",
   "execution_count": 21,
   "id": "cbb92f4f",
   "metadata": {
    "scrolled": true
   },
   "outputs": [
    {
     "data": {
      "image/png": "[encoded data removed]",
      "text/plain": [
       "<Figure size 432x288 with 1 Axes>"
      ]
     },
     "metadata": {
      "needs_background": "light"
     },
     "output_type": "display_data"
    }
   ],
   "source": [
    "nytimes_2022_Jan_to_May.plot(x='date', kind = 'line', use_index=True)\n",
    "plt.show()"
   ]
  },
  {
   "cell_type": "code",
   "execution_count": null,
   "id": "ab530fd1",
   "metadata": {},
   "outputs": [],
   "source": []
  },
  {
   "cell_type": "code",
   "execution_count": null,
   "id": "9f0712a6",
   "metadata": {},
   "outputs": [],
   "source": [
    "from pytrends.request import TrendReq\n",
    "\n",
    "pytrends = TrendReq(hl='en-US', tz=360)\n",
    "# pytrends = TrendReq(hl='en-US', tz=360, timeout=(10,25), proxies=['https://34.203.233.13:80',], retries=2, backoff_factor=0.1, requests_args={'verify':False})"
   ]
  },
  {
   "cell_type": "code",
   "execution_count": null,
   "id": "93835fbb",
   "metadata": {},
   "outputs": [],
   "source": [
    "kw_list = [\"covid symptoms\",\"covid deaths\",\"covid cases\",\"unemployment benefits\"]\n",
    "pytrends.build_payload(kw_list, cat=0, timeframe='2020-01-01 2022-05-11', geo='US', gprop='')"
   ]
  },
  {
   "cell_type": "markdown",
   "id": "87edfed4",
   "metadata": {},
   "source": [
    "### Interest Over Time"
   ]
  },
  {
   "cell_type": "code",
   "execution_count": null,
   "id": "7fc011c4",
   "metadata": {},
   "outputs": [],
   "source": [
    "interest = pytrends.interest_over_time()\n",
    "interest"
   ]
  },
  {
   "cell_type": "markdown",
   "id": "2b08f145",
   "metadata": {},
   "source": [
    "### Historical Hourly Interest"
   ]
  },
  {
   "cell_type": "code",
   "execution_count": null,
   "id": "c1897bba",
   "metadata": {},
   "outputs": [],
   "source": [
    "pytrends.get_historical_interest(kw_list, year_start=2022, month_start=1, day_start=1, hour_start=0, year_end=2022, month_end=2, day_end=1, hour_end=0, cat=0, geo='US', gprop='', sleep=0)"
   ]
  },
  {
   "cell_type": "markdown",
   "id": "d40acc95",
   "metadata": {},
   "source": [
    "### Interest by Region"
   ]
  },
  {
   "cell_type": "code",
   "execution_count": null,
   "id": "39fb8b56",
   "metadata": {},
   "outputs": [],
   "source": [
    "pytrends.interest_by_region(resolution='REGION', inc_low_vol=True, inc_geo_code=True)"
   ]
  },
  {
   "cell_type": "code",
   "execution_count": null,
   "id": "ac62827c",
   "metadata": {},
   "outputs": [],
   "source": [
    "interest.plot(y='covid symptoms', kind = 'line', use_index=True)\n",
    "interest.plot(y='covid deaths', kind = 'line', use_index=True)\n",
    "interest.plot(y='covid cases', kind = 'line', use_index=True)\n",
    "plt.show()\n"
   ]
  },
  {
   "cell_type": "code",
   "execution_count": null,
   "id": "fa147b7f",
   "metadata": {
    "scrolled": true
   },
   "outputs": [],
   "source": [
    "list(interest.columns)"
   ]
  },
  {
   "cell_type": "code",
   "execution_count": null,
   "id": "5adbb536",
   "metadata": {},
   "outputs": [],
   "source": []
  }
 ],
 "metadata": {
  "kernelspec": {
   "display_name": "Python 3 (ipykernel)",
   "language": "python",
   "name": "python3"
  },
  "language_info": {
   "codemirror_mode": {
    "name": "ipython",
    "version": 3
   },
   "file_extension": ".py",
   "mimetype": "text/x-python",
   "name": "python",
   "nbconvert_exporter": "python",
   "pygments_lexer": "ipython3",
   "version": "3.9.7"
  }
 },
 "nbformat": 4,
 "nbformat_minor": 5
}
