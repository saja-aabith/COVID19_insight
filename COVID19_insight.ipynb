{
 "cells": [
  {
   "cell_type": "markdown",
   "id": "6242ed00",
   "metadata": {},
   "source": [
    "# COVID19 Insight"
   ]
  },
  {
   "cell_type": "markdown",
   "id": "7aadd4b9",
   "metadata": {},
   "source": [
    "## Use Google Trends API to create:\n",
    "### - a data table\n",
    "### - an insights narrative\n",
    "### - to help communicate what you believe to be important information"
   ]
  },
  {
   "cell_type": "code",
   "execution_count": 1,
   "id": "252469a8",
   "metadata": {
    "collapsed": true
   },
   "outputs": [
    {
     "name": "stdout",
     "output_type": "stream",
     "text": [
      "Requirement already satisfied: pytrends in /Users/SA/opt/anaconda3/lib/python3.9/site-packages (4.8.0)\n",
      "Requirement already satisfied: pandas>=0.25 in /Users/SA/opt/anaconda3/lib/python3.9/site-packages (from pytrends) (1.3.4)\n",
      "Requirement already satisfied: lxml in /Users/SA/opt/anaconda3/lib/python3.9/site-packages (from pytrends) (4.6.3)\n",
      "Requirement already satisfied: requests>=2.0 in /Users/SA/opt/anaconda3/lib/python3.9/site-packages (from pytrends) (2.26.0)\n",
      "Requirement already satisfied: python-dateutil>=2.7.3 in /Users/SA/opt/anaconda3/lib/python3.9/site-packages (from pandas>=0.25->pytrends) (2.8.2)\n",
      "Requirement already satisfied: pytz>=2017.3 in /Users/SA/opt/anaconda3/lib/python3.9/site-packages (from pandas>=0.25->pytrends) (2021.3)\n",
      "Requirement already satisfied: numpy>=1.17.3 in /Users/SA/opt/anaconda3/lib/python3.9/site-packages (from pandas>=0.25->pytrends) (1.20.3)\n",
      "Requirement already satisfied: six>=1.5 in /Users/SA/opt/anaconda3/lib/python3.9/site-packages (from python-dateutil>=2.7.3->pandas>=0.25->pytrends) (1.16.0)\n",
      "Requirement already satisfied: urllib3<1.27,>=1.21.1 in /Users/SA/opt/anaconda3/lib/python3.9/site-packages (from requests>=2.0->pytrends) (1.26.7)\n",
      "Requirement already satisfied: certifi>=2017.4.17 in /Users/SA/opt/anaconda3/lib/python3.9/site-packages (from requests>=2.0->pytrends) (2021.10.8)\n",
      "Requirement already satisfied: charset-normalizer~=2.0.0 in /Users/SA/opt/anaconda3/lib/python3.9/site-packages (from requests>=2.0->pytrends) (2.0.4)\n",
      "Requirement already satisfied: idna<4,>=2.5 in /Users/SA/opt/anaconda3/lib/python3.9/site-packages (from requests>=2.0->pytrends) (3.2)\n",
      "Note: you may need to restart the kernel to use updated packages.\n"
     ]
    }
   ],
   "source": [
    "pip install pytrends"
   ]
  },
  {
   "cell_type": "code",
   "execution_count": 2,
   "id": "5647774e",
   "metadata": {},
   "outputs": [],
   "source": [
    "import pandas as pd"
   ]
  },
  {
   "cell_type": "code",
   "execution_count": 3,
   "id": "964e9393",
   "metadata": {},
   "outputs": [],
   "source": [
    "from pytrends.request import TrendReq\n",
    "\n",
    "pytrends = TrendReq(hl='en-US', tz=360)"
   ]
  },
  {
   "cell_type": "markdown",
   "id": "9b714489",
   "metadata": {},
   "source": [
    "### Interest Over Time"
   ]
  },
  {
   "cell_type": "code",
   "execution_count": 5,
   "id": "d5c6b5a2",
   "metadata": {
    "collapsed": true
   },
   "outputs": [
    {
     "ename": "KeyError",
     "evalue": "'request'",
     "output_type": "error",
     "traceback": [
      "\u001b[0;31m---------------------------------------------------------------------------\u001b[0m",
      "\u001b[0;31mKeyError\u001b[0m                                  Traceback (most recent call last)",
      "\u001b[0;32m/var/folders/xk/79frh2m90fj0mgmrvjs1y9th0000gn/T/ipykernel_28233/478850724.py\u001b[0m in \u001b[0;36m<module>\u001b[0;34m\u001b[0m\n\u001b[0;32m----> 1\u001b[0;31m \u001b[0mpytrends\u001b[0m\u001b[0;34m.\u001b[0m\u001b[0minterest_over_time\u001b[0m\u001b[0;34m(\u001b[0m\u001b[0;34m)\u001b[0m\u001b[0;34m\u001b[0m\u001b[0;34m\u001b[0m\u001b[0m\n\u001b[0m",
      "\u001b[0;32m~/opt/anaconda3/lib/python3.9/site-packages/pytrends/request.py\u001b[0m in \u001b[0;36minterest_over_time\u001b[0;34m(self)\u001b[0m\n\u001b[1;32m    218\u001b[0m         over_time_payload = {\n\u001b[1;32m    219\u001b[0m             \u001b[0;31m# convert to string as requests will mangle\u001b[0m\u001b[0;34m\u001b[0m\u001b[0;34m\u001b[0m\u001b[0m\n\u001b[0;32m--> 220\u001b[0;31m             \u001b[0;34m'req'\u001b[0m\u001b[0;34m:\u001b[0m \u001b[0mjson\u001b[0m\u001b[0;34m.\u001b[0m\u001b[0mdumps\u001b[0m\u001b[0;34m(\u001b[0m\u001b[0mself\u001b[0m\u001b[0;34m.\u001b[0m\u001b[0minterest_over_time_widget\u001b[0m\u001b[0;34m[\u001b[0m\u001b[0;34m'request'\u001b[0m\u001b[0;34m]\u001b[0m\u001b[0;34m)\u001b[0m\u001b[0;34m,\u001b[0m\u001b[0;34m\u001b[0m\u001b[0;34m\u001b[0m\u001b[0m\n\u001b[0m\u001b[1;32m    221\u001b[0m             \u001b[0;34m'token'\u001b[0m\u001b[0;34m:\u001b[0m \u001b[0mself\u001b[0m\u001b[0;34m.\u001b[0m\u001b[0minterest_over_time_widget\u001b[0m\u001b[0;34m[\u001b[0m\u001b[0;34m'token'\u001b[0m\u001b[0;34m]\u001b[0m\u001b[0;34m,\u001b[0m\u001b[0;34m\u001b[0m\u001b[0;34m\u001b[0m\u001b[0m\n\u001b[1;32m    222\u001b[0m             \u001b[0;34m'tz'\u001b[0m\u001b[0;34m:\u001b[0m \u001b[0mself\u001b[0m\u001b[0;34m.\u001b[0m\u001b[0mtz\u001b[0m\u001b[0;34m\u001b[0m\u001b[0;34m\u001b[0m\u001b[0m\n",
      "\u001b[0;31mKeyError\u001b[0m: 'request'"
     ]
    }
   ],
   "source": [
    "pytrends.interest_over_time()"
   ]
  },
  {
   "cell_type": "markdown",
   "id": "4ca62f99",
   "metadata": {},
   "source": [
    "### Historical Hourly Interest"
   ]
  },
  {
   "cell_type": "code",
   "execution_count": 6,
   "id": "2999a398",
   "metadata": {
    "collapsed": true
   },
   "outputs": [
    {
     "ename": "NameError",
     "evalue": "name 'kw_list' is not defined",
     "output_type": "error",
     "traceback": [
      "\u001b[0;31m---------------------------------------------------------------------------\u001b[0m",
      "\u001b[0;31mNameError\u001b[0m                                 Traceback (most recent call last)",
      "\u001b[0;32m/var/folders/xk/79frh2m90fj0mgmrvjs1y9th0000gn/T/ipykernel_28233/1310446309.py\u001b[0m in \u001b[0;36m<module>\u001b[0;34m\u001b[0m\n\u001b[0;32m----> 1\u001b[0;31m \u001b[0mpytrends\u001b[0m\u001b[0;34m.\u001b[0m\u001b[0mget_historical_interest\u001b[0m\u001b[0;34m(\u001b[0m\u001b[0mkw_list\u001b[0m\u001b[0;34m,\u001b[0m \u001b[0myear_start\u001b[0m\u001b[0;34m=\u001b[0m\u001b[0;36m2018\u001b[0m\u001b[0;34m,\u001b[0m \u001b[0mmonth_start\u001b[0m\u001b[0;34m=\u001b[0m\u001b[0;36m1\u001b[0m\u001b[0;34m,\u001b[0m \u001b[0mday_start\u001b[0m\u001b[0;34m=\u001b[0m\u001b[0;36m1\u001b[0m\u001b[0;34m,\u001b[0m \u001b[0mhour_start\u001b[0m\u001b[0;34m=\u001b[0m\u001b[0;36m0\u001b[0m\u001b[0;34m,\u001b[0m \u001b[0myear_end\u001b[0m\u001b[0;34m=\u001b[0m\u001b[0;36m2018\u001b[0m\u001b[0;34m,\u001b[0m \u001b[0mmonth_end\u001b[0m\u001b[0;34m=\u001b[0m\u001b[0;36m2\u001b[0m\u001b[0;34m,\u001b[0m \u001b[0mday_end\u001b[0m\u001b[0;34m=\u001b[0m\u001b[0;36m1\u001b[0m\u001b[0;34m,\u001b[0m \u001b[0mhour_end\u001b[0m\u001b[0;34m=\u001b[0m\u001b[0;36m0\u001b[0m\u001b[0;34m,\u001b[0m \u001b[0mcat\u001b[0m\u001b[0;34m=\u001b[0m\u001b[0;36m0\u001b[0m\u001b[0;34m,\u001b[0m \u001b[0mgeo\u001b[0m\u001b[0;34m=\u001b[0m\u001b[0;34m''\u001b[0m\u001b[0;34m,\u001b[0m \u001b[0mgprop\u001b[0m\u001b[0;34m=\u001b[0m\u001b[0;34m''\u001b[0m\u001b[0;34m,\u001b[0m \u001b[0msleep\u001b[0m\u001b[0;34m=\u001b[0m\u001b[0;36m0\u001b[0m\u001b[0;34m)\u001b[0m\u001b[0;34m\u001b[0m\u001b[0;34m\u001b[0m\u001b[0m\n\u001b[0m",
      "\u001b[0;31mNameError\u001b[0m: name 'kw_list' is not defined"
     ]
    }
   ],
   "source": [
    "pytrends.get_historical_interest(kw_list, year_start=2018, month_start=1, day_start=1, hour_start=0, year_end=2018, month_end=2, day_end=1, hour_end=0, cat=0, geo='', gprop='', sleep=0)"
   ]
  },
  {
   "cell_type": "markdown",
   "id": "449c59c6",
   "metadata": {},
   "source": [
    "### Interest by Region"
   ]
  },
  {
   "cell_type": "code",
   "execution_count": 7,
   "id": "7e6425d1",
   "metadata": {
    "collapsed": true
   },
   "outputs": [
    {
     "ename": "KeyError",
     "evalue": "'request'",
     "output_type": "error",
     "traceback": [
      "\u001b[0;31m---------------------------------------------------------------------------\u001b[0m",
      "\u001b[0;31mKeyError\u001b[0m                                  Traceback (most recent call last)",
      "\u001b[0;32m/var/folders/xk/79frh2m90fj0mgmrvjs1y9th0000gn/T/ipykernel_28233/3291879812.py\u001b[0m in \u001b[0;36m<module>\u001b[0;34m\u001b[0m\n\u001b[0;32m----> 1\u001b[0;31m \u001b[0mpytrends\u001b[0m\u001b[0;34m.\u001b[0m\u001b[0minterest_by_region\u001b[0m\u001b[0;34m(\u001b[0m\u001b[0mresolution\u001b[0m\u001b[0;34m=\u001b[0m\u001b[0;34m'COUNTRY'\u001b[0m\u001b[0;34m,\u001b[0m \u001b[0minc_low_vol\u001b[0m\u001b[0;34m=\u001b[0m\u001b[0;32mTrue\u001b[0m\u001b[0;34m,\u001b[0m \u001b[0minc_geo_code\u001b[0m\u001b[0;34m=\u001b[0m\u001b[0;32mFalse\u001b[0m\u001b[0;34m)\u001b[0m\u001b[0;34m\u001b[0m\u001b[0;34m\u001b[0m\u001b[0m\n\u001b[0m",
      "\u001b[0;32m~/opt/anaconda3/lib/python3.9/site-packages/pytrends/request.py\u001b[0m in \u001b[0;36minterest_by_region\u001b[0;34m(self, resolution, inc_low_vol, inc_geo_code)\u001b[0m\n\u001b[1;32m    273\u001b[0m         \u001b[0mregion_payload\u001b[0m \u001b[0;34m=\u001b[0m \u001b[0mdict\u001b[0m\u001b[0;34m(\u001b[0m\u001b[0;34m)\u001b[0m\u001b[0;34m\u001b[0m\u001b[0;34m\u001b[0m\u001b[0m\n\u001b[1;32m    274\u001b[0m         \u001b[0;32mif\u001b[0m \u001b[0mself\u001b[0m\u001b[0;34m.\u001b[0m\u001b[0mgeo\u001b[0m \u001b[0;34m==\u001b[0m \u001b[0;34m''\u001b[0m\u001b[0;34m:\u001b[0m\u001b[0;34m\u001b[0m\u001b[0;34m\u001b[0m\u001b[0m\n\u001b[0;32m--> 275\u001b[0;31m             self.interest_by_region_widget['request'][\n\u001b[0m\u001b[1;32m    276\u001b[0m                 'resolution'] = resolution\n\u001b[1;32m    277\u001b[0m         \u001b[0;32melif\u001b[0m \u001b[0mself\u001b[0m\u001b[0;34m.\u001b[0m\u001b[0mgeo\u001b[0m \u001b[0;34m==\u001b[0m \u001b[0;34m'US'\u001b[0m \u001b[0;32mand\u001b[0m \u001b[0mresolution\u001b[0m \u001b[0;32min\u001b[0m \u001b[0;34m[\u001b[0m\u001b[0;34m'DMA'\u001b[0m\u001b[0;34m,\u001b[0m \u001b[0;34m'CITY'\u001b[0m\u001b[0;34m,\u001b[0m \u001b[0;34m'REGION'\u001b[0m\u001b[0;34m]\u001b[0m\u001b[0;34m:\u001b[0m\u001b[0;34m\u001b[0m\u001b[0;34m\u001b[0m\u001b[0m\n",
      "\u001b[0;31mKeyError\u001b[0m: 'request'"
     ]
    }
   ],
   "source": [
    "pytrends.interest_by_region(resolution='COUNTRY', inc_low_vol=True, inc_geo_code=False)"
   ]
  },
  {
   "cell_type": "code",
   "execution_count": null,
   "id": "56224791",
   "metadata": {},
   "outputs": [],
   "source": []
  }
 ],
 "metadata": {
  "kernelspec": {
   "display_name": "Python 3 (ipykernel)",
   "language": "python",
   "name": "python3"
  },
  "language_info": {
   "codemirror_mode": {
    "name": "ipython",
    "version": 3
   },
   "file_extension": ".py",
   "mimetype": "text/x-python",
   "name": "python",
   "nbconvert_exporter": "python",
   "pygments_lexer": "ipython3",
   "version": "3.9.7"
  }
 },
 "nbformat": 4,
 "nbformat_minor": 5
}
