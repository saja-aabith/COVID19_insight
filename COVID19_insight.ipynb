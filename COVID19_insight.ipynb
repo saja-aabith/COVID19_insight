{
 "cells": [
  {
   "cell_type": "markdown",
   "id": "e79a6816",
   "metadata": {},
   "source": [
    "# <font color=purple>COVID19 Insight</font>"
   ]
  },
  {
   "cell_type": "markdown",
   "id": "26791f09",
   "metadata": {},
   "source": [
    "## Use Google Trends API to create:\n",
    "### - a data table\n",
    "### - an insights narrative\n",
    "### - to help communicate what you believe to be important information"
   ]
  },
  {
   "cell_type": "code",
   "execution_count": null,
   "id": "3991f514",
   "metadata": {},
   "outputs": [],
   "source": [
    "pip install pytrends"
   ]
  },
  {
   "cell_type": "markdown",
   "id": "7846a92f",
   "metadata": {},
   "source": [
    "# <font color=black>------------------------------------------------------------------------------------------</font>"
   ]
  },
  {
   "cell_type": "markdown",
   "id": "fbeb9f99",
   "metadata": {},
   "source": [
    "# <font color=green>Exploring pytrends</font>"
   ]
  },
  {
   "cell_type": "code",
   "execution_count": null,
   "id": "fb92f39a",
   "metadata": {},
   "outputs": [],
   "source": [
    "from pytrends.request import TrendReq\n",
    "\n",
    "pytrends = TrendReq(hl='en-US', tz=360)\n",
    "\n",
    "kw_list = [\"/m/01cpyy\",\"covid symptoms\",\"covid cases\",\"unemployment benefits\",\"covid vaccine\"]\n",
    "pytrends.build_payload(kw_list, cat=0, timeframe='2022-01-01 2022-05-11', geo='US', gprop='')"
   ]
  },
  {
   "cell_type": "markdown",
   "id": "62fbf3a3",
   "metadata": {},
   "source": [
    "## Using pytrends to find an encoded topic"
   ]
  },
  {
   "cell_type": "code",
   "execution_count": null,
   "id": "c9182901",
   "metadata": {},
   "outputs": [],
   "source": [
    "covid_vaccine = pytrends.suggestions('covid vaccine')\n",
    "covid_vaccine"
   ]
  },
  {
   "cell_type": "code",
   "execution_count": null,
   "id": "0027ef57",
   "metadata": {},
   "outputs": [],
   "source": [
    "facemask = pytrends.suggestions('facemask')\n",
    "facemask"
   ]
  },
  {
   "cell_type": "code",
   "execution_count": null,
   "id": "acb09a47",
   "metadata": {},
   "outputs": [],
   "source": [
    "ukraine = pytrends.suggestions('ukraine')\n",
    "ukraine"
   ]
  },
  {
   "cell_type": "code",
   "execution_count": null,
   "id": "6863c5ad",
   "metadata": {},
   "outputs": [],
   "source": [
    "economy = pytrends.suggestions('economy')\n",
    "economy"
   ]
  },
  {
   "cell_type": "code",
   "execution_count": null,
   "id": "706ee764",
   "metadata": {},
   "outputs": [],
   "source": [
    "kw_list = [\"/m/01cpyy\",\"covid symptoms\",\"covid cases\",\"/m/0_x6d5x\",\"covid vaccine\"]\n",
    "pytrends.build_payload(kw_list, cat=0, timeframe='2022-01-01 2022-05-11', geo='US', gprop='')"
   ]
  },
  {
   "cell_type": "markdown",
   "id": "3eccd31f",
   "metadata": {},
   "source": [
    "## Available pytrend methods"
   ]
  },
  {
   "cell_type": "markdown",
   "id": "ecfa67bc",
   "metadata": {},
   "source": [
    "### Interest Over Time"
   ]
  },
  {
   "cell_type": "code",
   "execution_count": null,
   "id": "ecbd386b",
   "metadata": {},
   "outputs": [],
   "source": [
    "interest = pytrends.interest_over_time()\n",
    "interest\n",
    "\n",
    "interest.plot(kind = 'line', use_index=True)\n",
    "#interest.plot(y='covid deaths', kind = 'line', use_index=True)\n",
    "#interest.plot(y='covid cases', kind = 'line', use_index=True)\n",
    "plt.show()"
   ]
  },
  {
   "cell_type": "markdown",
   "id": "1e9fd4e3",
   "metadata": {},
   "source": [
    "### Historical Hourly Interest"
   ]
  },
  {
   "cell_type": "code",
   "execution_count": null,
   "id": "18442726",
   "metadata": {},
   "outputs": [],
   "source": [
    "h_interest = pytrends.get_historical_interest(kw_list, year_start=2022, month_start=1, day_start=1, hour_start=0, year_end=2022, month_end=5, day_end=11, hour_end=0, cat=0, geo='US', gprop='', sleep=0)\n",
    "\n",
    "h_interest.plot(kind = 'line', use_index=True)\n",
    "plt.show()"
   ]
  },
  {
   "cell_type": "markdown",
   "id": "11bf02ab",
   "metadata": {},
   "source": [
    "### Interest by Region"
   ]
  },
  {
   "cell_type": "code",
   "execution_count": null,
   "id": "bb0622b5",
   "metadata": {},
   "outputs": [],
   "source": [
    "r_interest = pytrends.interest_by_region(resolution='REGION', inc_low_vol=True, inc_geo_code=True)\n",
    "r_interest\n",
    "\n",
    "r_interest.plot(kind = 'line', use_index=True)\n",
    "plt.show()"
   ]
  },
  {
   "cell_type": "markdown",
   "id": "d62a8789",
   "metadata": {},
   "source": [
    "### Trending search"
   ]
  },
  {
   "cell_type": "code",
   "execution_count": null,
   "id": "3eda8a4c",
   "metadata": {},
   "outputs": [],
   "source": [
    "trending_search = pytrends.trending_searches(pn='united_states')\n",
    "trending_search\n",
    "\n",
    "trending_search.plot(kind = 'bar', use_index=True)\n",
    "plt.show()"
   ]
  },
  {
   "cell_type": "markdown",
   "id": "b8aedf97",
   "metadata": {},
   "source": [
    "### Realtime search trends"
   ]
  },
  {
   "cell_type": "code",
   "execution_count": null,
   "id": "3387eb0f",
   "metadata": {},
   "outputs": [],
   "source": [
    "realtime_trends = pytrends.realtime_trending_searches(pn='US')\n",
    "realtime_trends"
   ]
  },
  {
   "cell_type": "markdown",
   "id": "1563016e",
   "metadata": {},
   "source": [
    "### Top Charts*"
   ]
  },
  {
   "cell_type": "code",
   "execution_count": null,
   "id": "c754133e",
   "metadata": {},
   "outputs": [],
   "source": [
    "top_charts = pytrends.top_charts(2020, hl='en-US', tz=300, geo='US')\n",
    "top_charts"
   ]
  },
  {
   "cell_type": "markdown",
   "id": "e65057e3",
   "metadata": {},
   "source": [
    "### Related topics"
   ]
  },
  {
   "cell_type": "code",
   "execution_count": null,
   "id": "b1f442b9",
   "metadata": {},
   "outputs": [],
   "source": [
    "related_topics = pytrends.related_topics()\n",
    "related_topics"
   ]
  },
  {
   "cell_type": "markdown",
   "id": "0835326f",
   "metadata": {},
   "source": [
    "# <font color=green>Exploring NYTimes dataset</font>\n",
    "#### Source: https://github.com/nytimes/covid-19-data"
   ]
  },
  {
   "cell_type": "code",
   "execution_count": 1,
   "id": "4a9b4332",
   "metadata": {},
   "outputs": [],
   "source": [
    "import pandas as pd\n",
    "import matplotlib.pyplot as plt"
   ]
  },
  {
   "cell_type": "markdown",
   "id": "2c87caf7",
   "metadata": {},
   "source": [
    "### 2020"
   ]
  },
  {
   "cell_type": "code",
   "execution_count": 2,
   "id": "2a9caab5",
   "metadata": {
    "collapsed": true
   },
   "outputs": [
    {
     "data": {
      "image/png": "[encoded data removed]",
      "text/plain": [
       "<Figure size 432x288 with 1 Axes>"
      ]
     },
     "metadata": {
      "needs_background": "light"
     },
     "output_type": "display_data"
    }
   ],
   "source": [
    "nytimes_2020 = pd.read_csv (r'Data/NYTimes/us-counties-2020.txt')\n",
    "nytimes_2020.to_csv (r'Data/NYTimes/us-counties-2020.csv', index=None)\n",
    "nytimes_2020\n",
    "\n",
    "nytimes_2020 = nytimes_2020.drop(['county','fips'], axis=1)\n",
    "\n",
    "nytimes_2020['date'] = pd.to_datetime(nytimes_2020[\"date\"], infer_datetime_format=True)\n",
    "nytimes_2020['date']\n",
    "\n",
    "nytimes_2020['cases'].sum()\n",
    "\n",
    "nytimes_2020['deaths'].sum()\n",
    "\n",
    "nytimes_2020.plot(x='date', kind = 'line', use_index=True)\n",
    "plt.title(\"Cumulative number of coronavirus cases and deaths\")\n",
    "plt.xlabel(\"Date\")\n",
    "plt.ylabel(\"Number of people\")\n",
    "plt.show()"
   ]
  },
  {
   "cell_type": "markdown",
   "id": "be299348",
   "metadata": {},
   "source": [
    "### 2021"
   ]
  },
  {
   "cell_type": "code",
   "execution_count": 3,
   "id": "293f3127",
   "metadata": {
    "collapsed": true
   },
   "outputs": [
    {
     "data": {
      "image/png": "[encoded data removed]",
      "text/plain": [
       "<Figure size 432x288 with 1 Axes>"
      ]
     },
     "metadata": {
      "needs_background": "light"
     },
     "output_type": "display_data"
    }
   ],
   "source": [
    "nytimes_2021 = pd.read_csv (r'Data/NYTimes/us-counties-2021.txt')\n",
    "nytimes_2021.to_csv (r'Data/NYTimes/us-counties-2021.csv', index=None)\n",
    "nytimes_2021\n",
    "\n",
    "nytimes_2021 = nytimes_2021.drop(['county','fips'], axis=1)\n",
    "\n",
    "nytimes_2021['date'] = pd.to_datetime(nytimes_2021[\"date\"], infer_datetime_format=True)\n",
    "nytimes_2021['date']\n",
    "\n",
    "nytimes_2021['cases'].sum()\n",
    "\n",
    "nytimes_2021['deaths'].sum()\n",
    "\n",
    "nytimes_2021.plot(x='date', kind = 'line', use_index=True)\n",
    "plt.title(\"Cumulative number of coronavirus cases and deaths\")\n",
    "plt.xlabel(\"Date\")\n",
    "plt.ylabel(\"Number of people\")\n",
    "plt.show()"
   ]
  },
  {
   "cell_type": "code",
   "execution_count": 6,
   "id": "f36e6977",
   "metadata": {},
   "outputs": [],
   "source": [
    "#nytimes_2021['cases'].plot(x='date', kind='bar')\n",
    "#plt.show()"
   ]
  },
  {
   "cell_type": "markdown",
   "id": "310cb076",
   "metadata": {},
   "source": [
    "### 2022"
   ]
  },
  {
   "cell_type": "code",
   "execution_count": 7,
   "id": "4b8f5efa",
   "metadata": {},
   "outputs": [
    {
     "data": {
      "image/png": "[encoded data removed]",
      "text/plain": [
       "<Figure size 432x288 with 1 Axes>"
      ]
     },
     "metadata": {
      "needs_background": "light"
     },
     "output_type": "display_data"
    }
   ],
   "source": [
    "nytimes_2022 = pd.read_csv (r'Data/NYTimes/us-counties-2022-Jan-May.txt')\n",
    "nytimes_2022.to_csv (r'Data/NYTimes/us-counties-2022-Jan-May.csv', index=None)\n",
    "nytimes_2022\n",
    "\n",
    "nytimes_2022 = nytimes_2022.drop(['county','fips'], axis=1)\n",
    "\n",
    "nytimes_2022['date'] = pd.to_datetime(nytimes_2022[\"date\"], infer_datetime_format=True)\n",
    "nytimes_2022['date']\n",
    "\n",
    "nytimes_2022['cases'].sum()\n",
    "\n",
    "nytimes_2022['deaths'].sum()\n",
    "\n",
    "nytimes_2022.plot(x='date', kind = 'line', use_index=True)\n",
    "plt.title(\"Cumulative number of coronavirus cases and deaths\")\n",
    "plt.xlabel(\"Date\")\n",
    "plt.ylabel(\"Number of people\")\n",
    "plt.show()"
   ]
  },
  {
   "cell_type": "code",
   "execution_count": 23,
   "id": "948f2820",
   "metadata": {},
   "outputs": [
    {
     "ename": "TypeError",
     "evalue": "'bool' object is not callable",
     "output_type": "error",
     "traceback": [
      "\u001b[0;31m---------------------------------------------------------------------------\u001b[0m",
      "\u001b[0;31mTypeError\u001b[0m                                 Traceback (most recent call last)",
      "\u001b[0;32m/var/folders/xk/79frh2m90fj0mgmrvjs1y9th0000gn/T/ipykernel_86656/3348709593.py\u001b[0m in \u001b[0;36m<module>\u001b[0;34m\u001b[0m\n\u001b[0;32m----> 1\u001b[0;31m \u001b[0mnytimes_2020\u001b[0m\u001b[0;34m.\u001b[0m\u001b[0msort\u001b[0m\u001b[0;34m(\u001b[0m\u001b[0;34m\"state\"\u001b[0m\u001b[0;34m)\u001b[0m\u001b[0;34m\u001b[0m\u001b[0;34m\u001b[0m\u001b[0m\n\u001b[0m\u001b[1;32m      2\u001b[0m \u001b[0mnytimes_2020\u001b[0m\u001b[0;34m\u001b[0m\u001b[0;34m\u001b[0m\u001b[0m\n",
      "\u001b[0;31mTypeError\u001b[0m: 'bool' object is not callable"
     ]
    }
   ],
   "source": [
    "nytimes_2020.sort(\"state\")\n",
    "nytimes_2020"
   ]
  },
  {
   "cell_type": "markdown",
   "id": "6a486a8c",
   "metadata": {},
   "source": [
    "# <font color=black>------------------------------------------------------------------------------------------</font>"
   ]
  }
 ],
 "metadata": {
  "kernelspec": {
   "display_name": "Python 3 (ipykernel)",
   "language": "python",
   "name": "python3"
  },
  "language_info": {
   "codemirror_mode": {
    "name": "ipython",
    "version": 3
   },
   "file_extension": ".py",
   "mimetype": "text/x-python",
   "name": "python",
   "nbconvert_exporter": "python",
   "pygments_lexer": "ipython3",
   "version": "3.9.7"
  }
 },
 "nbformat": 4,
 "nbformat_minor": 5
}
