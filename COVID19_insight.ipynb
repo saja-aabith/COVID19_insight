{
 "cells": [
  {
   "cell_type": "markdown",
   "id": "b15186f7",
   "metadata": {},
   "source": [
    "# <font color=purple>COVID19 Insight</font>"
   ]
  },
  {
   "cell_type": "markdown",
   "id": "7a4a7547",
   "metadata": {},
   "source": [
    "## Use Google Trends API to create:\n",
    "### - a data table\n",
    "### - an insights narrative\n",
    "### - to help communicate what you believe to be important information"
   ]
  },
  {
   "cell_type": "code",
   "execution_count": null,
   "id": "5bcc3b33",
   "metadata": {},
   "outputs": [],
   "source": [
    "pip install pytrends"
   ]
  },
  {
   "cell_type": "markdown",
   "id": "30cc2291",
   "metadata": {},
   "source": [
    "# <font color=black>------------------------------------------------------------------------------------------</font>"
   ]
  },
  {
   "cell_type": "markdown",
   "id": "146d1912",
   "metadata": {},
   "source": [
    "# <font color=green>Exploring pytrends</font>"
   ]
  },
  {
   "cell_type": "code",
   "execution_count": null,
   "id": "abce0b4b",
   "metadata": {},
   "outputs": [],
   "source": [
    "from pytrends.request import TrendReq\n",
    "\n",
    "pytrends = TrendReq(hl='en-US', tz=360)\n",
    "\n",
    "kw_list = [\"/m/01cpyy\",\"covid symptoms\",\"covid cases\",\"unemployment benefits\",\"covid vaccine\"]\n",
    "pytrends.build_payload(kw_list, cat=0, timeframe='2022-01-01 2022-05-11', geo='US', gprop='')"
   ]
  },
  {
   "cell_type": "markdown",
   "id": "77e08a03",
   "metadata": {},
   "source": [
    "## Using pytrends to find an encoded topic"
   ]
  },
  {
   "cell_type": "code",
   "execution_count": null,
   "id": "0ff33a82",
   "metadata": {},
   "outputs": [],
   "source": [
    "covid_vaccine = pytrends.suggestions('covid vaccine')\n",
    "covid_vaccine"
   ]
  },
  {
   "cell_type": "code",
   "execution_count": null,
   "id": "50f9b137",
   "metadata": {},
   "outputs": [],
   "source": [
    "facemask = pytrends.suggestions('facemask')\n",
    "facemask"
   ]
  },
  {
   "cell_type": "code",
   "execution_count": null,
   "id": "f2e36a8c",
   "metadata": {},
   "outputs": [],
   "source": [
    "ukraine = pytrends.suggestions('ukraine')\n",
    "ukraine"
   ]
  },
  {
   "cell_type": "code",
   "execution_count": null,
   "id": "c07c0c57",
   "metadata": {},
   "outputs": [],
   "source": [
    "economy = pytrends.suggestions('economy')\n",
    "economy"
   ]
  },
  {
   "cell_type": "code",
   "execution_count": null,
   "id": "fa9da82f",
   "metadata": {},
   "outputs": [],
   "source": [
    "kw_list = [\"/m/01cpyy\",\"covid symptoms\",\"covid cases\",\"/m/0_x6d5x\",\"covid vaccine\"]\n",
    "pytrends.build_payload(kw_list, cat=0, timeframe='2022-01-01 2022-05-11', geo='US', gprop='')"
   ]
  },
  {
   "cell_type": "markdown",
   "id": "b539a577",
   "metadata": {},
   "source": [
    "## Available pytrend methods"
   ]
  },
  {
   "cell_type": "markdown",
   "id": "b795b22e",
   "metadata": {},
   "source": [
    "### Interest Over Time"
   ]
  },
  {
   "cell_type": "code",
   "execution_count": null,
   "id": "6b1cc952",
   "metadata": {},
   "outputs": [],
   "source": [
    "interest = pytrends.interest_over_time()\n",
    "interest\n",
    "\n",
    "interest.plot(kind = 'line', use_index=True)\n",
    "#interest.plot(y='covid deaths', kind = 'line', use_index=True)\n",
    "#interest.plot(y='covid cases', kind = 'line', use_index=True)\n",
    "plt.show()"
   ]
  },
  {
   "cell_type": "markdown",
   "id": "a43d5ede",
   "metadata": {},
   "source": [
    "### Historical Hourly Interest"
   ]
  },
  {
   "cell_type": "code",
   "execution_count": null,
   "id": "855c7c8f",
   "metadata": {},
   "outputs": [],
   "source": [
    "h_interest = pytrends.get_historical_interest(kw_list, year_start=2022, month_start=1, day_start=1, hour_start=0, year_end=2022, month_end=5, day_end=11, hour_end=0, cat=0, geo='US', gprop='', sleep=0)\n",
    "\n",
    "h_interest.plot(kind = 'line', use_index=True)\n",
    "plt.show()"
   ]
  },
  {
   "cell_type": "markdown",
   "id": "165e2cde",
   "metadata": {},
   "source": [
    "### Interest by Region"
   ]
  },
  {
   "cell_type": "code",
   "execution_count": null,
   "id": "1f9caa3e",
   "metadata": {},
   "outputs": [],
   "source": [
    "r_interest = pytrends.interest_by_region(resolution='REGION', inc_low_vol=True, inc_geo_code=True)\n",
    "r_interest\n",
    "\n",
    "r_interest.plot(kind = 'line', use_index=True)\n",
    "plt.show()"
   ]
  },
  {
   "cell_type": "markdown",
   "id": "96e85900",
   "metadata": {},
   "source": [
    "### Trending search"
   ]
  },
  {
   "cell_type": "code",
   "execution_count": null,
   "id": "4e5107a6",
   "metadata": {},
   "outputs": [],
   "source": [
    "trending_search = pytrends.trending_searches(pn='united_states')\n",
    "trending_search\n",
    "\n",
    "trending_search.plot(kind = 'bar', use_index=True)\n",
    "plt.show()"
   ]
  },
  {
   "cell_type": "markdown",
   "id": "22278768",
   "metadata": {},
   "source": [
    "### Realtime search trends"
   ]
  },
  {
   "cell_type": "code",
   "execution_count": null,
   "id": "1cdd7493",
   "metadata": {},
   "outputs": [],
   "source": [
    "realtime_trends = pytrends.realtime_trending_searches(pn='US')\n",
    "realtime_trends"
   ]
  },
  {
   "cell_type": "markdown",
   "id": "f9c4b408",
   "metadata": {},
   "source": [
    "### Top Charts*"
   ]
  },
  {
   "cell_type": "code",
   "execution_count": null,
   "id": "81273e69",
   "metadata": {},
   "outputs": [],
   "source": [
    "top_charts = pytrends.top_charts(2020, hl='en-US', tz=300, geo='US')\n",
    "top_charts"
   ]
  },
  {
   "cell_type": "markdown",
   "id": "38451f9b",
   "metadata": {},
   "source": [
    "### Related topics"
   ]
  },
  {
   "cell_type": "code",
   "execution_count": null,
   "id": "6600b20d",
   "metadata": {},
   "outputs": [],
   "source": [
    "related_topics = pytrends.related_topics()\n",
    "related_topics"
   ]
  },
  {
   "cell_type": "markdown",
   "id": "5202ac05",
   "metadata": {},
   "source": [
    "# <font color=green>Exploring NYTimes dataset</font>\n",
    "#### Source: https://github.com/nytimes/covid-19-data"
   ]
  },
  {
   "cell_type": "code",
   "execution_count": 1,
   "id": "7d3286f8",
   "metadata": {},
   "outputs": [],
   "source": [
    "import pandas as pd\n",
    "import matplotlib.pyplot as plt"
   ]
  },
  {
   "cell_type": "markdown",
   "id": "edcfd954",
   "metadata": {},
   "source": [
    "### 2020"
   ]
  },
  {
   "cell_type": "code",
   "execution_count": 7,
   "id": "d7d6634a",
   "metadata": {},
   "outputs": [
    {
     "data": {
      "image/png": "[encoded data removed]",
      "text/plain": [
       "<Figure size 432x288 with 1 Axes>"
      ]
     },
     "metadata": {
      "needs_background": "light"
     },
     "output_type": "display_data"
    }
   ],
   "source": [
    "nytimes_2020 = pd.read_csv (r'Data/NYTimes/us-counties-2020.txt')\n",
    "nytimes_2020.to_csv (r'Data/NYTimes/us-counties-2020.csv', index=None)\n",
    "nytimes_2020\n",
    "\n",
    "nytimes_2020 = nytimes_2020.drop(['county','fips'], axis=1)\n",
    "\n",
    "nytimes_2020['date'] = pd.to_datetime(nytimes_2020[\"date\"], infer_datetime_format=True)\n",
    "nytimes_2020['date']\n",
    "\n",
    "nytimes_2020 = nytimes_2020.sort_values(by=[\"state\",\"cases\"])\n",
    "nytimes_2020\n",
    "\n",
    "nytimes_2020.plot(x='date', kind = 'line', use_index=True)\n",
    "plt.title(\"Cumulative number of coronavirus cases and deaths - 2020\")\n",
    "plt.xlabel(\"Date\")\n",
    "plt.ylabel(\"Number of people\")\n",
    "plt.show()"
   ]
  },
  {
   "cell_type": "markdown",
   "id": "ea2821d2",
   "metadata": {},
   "source": [
    "### 2021"
   ]
  },
  {
   "cell_type": "code",
   "execution_count": 8,
   "id": "978876f7",
   "metadata": {
    "collapsed": true
   },
   "outputs": [
    {
     "data": {
      "image/png": "[encoded data removed]",
      "text/plain": [
       "<Figure size 432x288 with 1 Axes>"
      ]
     },
     "metadata": {
      "needs_background": "light"
     },
     "output_type": "display_data"
    }
   ],
   "source": [
    "nytimes_2021 = pd.read_csv (r'Data/NYTimes/us-counties-2021.txt')\n",
    "nytimes_2021.to_csv (r'Data/NYTimes/us-counties-2021.csv', index=None)\n",
    "nytimes_2021\n",
    "\n",
    "nytimes_2021 = nytimes_2021.drop(['county','fips'], axis=1)\n",
    "\n",
    "nytimes_2021['date'] = pd.to_datetime(nytimes_2021[\"date\"], infer_datetime_format=True)\n",
    "nytimes_2021['date']\n",
    "\n",
    "nytimes_2021 = nytimes_2021.sort_values(by=[\"state\",\"cases\"])\n",
    "nytimes_2021\n",
    "\n",
    "nytimes_2021.plot(x='date', kind = 'line', use_index=True)\n",
    "plt.title(\"Cumulative number of coronavirus cases and deaths - 2021\")\n",
    "plt.xlabel(\"Date\")\n",
    "plt.ylabel(\"Number of people\")\n",
    "plt.show()"
   ]
  },
  {
   "cell_type": "code",
   "execution_count": 9,
   "id": "6df47013",
   "metadata": {},
   "outputs": [],
   "source": [
    "#nytimes_2021['cases'].plot(x='date', kind='bar')\n",
    "#plt.show()"
   ]
  },
  {
   "cell_type": "markdown",
   "id": "88abf6cd",
   "metadata": {},
   "source": [
    "### 2022"
   ]
  },
  {
   "cell_type": "code",
   "execution_count": 10,
   "id": "a59bd204",
   "metadata": {
    "collapsed": true
   },
   "outputs": [
    {
     "data": {
      "image/png": "[encoded data removed]",
      "text/plain": [
       "<Figure size 432x288 with 1 Axes>"
      ]
     },
     "metadata": {
      "needs_background": "light"
     },
     "output_type": "display_data"
    }
   ],
   "source": [
    "nytimes_2022 = pd.read_csv (r'Data/NYTimes/us-counties-2022-Jan-May.txt')\n",
    "nytimes_2022.to_csv (r'Data/NYTimes/us-counties-2022-Jan-May.csv', index=None)\n",
    "nytimes_2022\n",
    "\n",
    "nytimes_2022 = nytimes_2022.drop(['county','fips'], axis=1)\n",
    "\n",
    "nytimes_2022['date'] = pd.to_datetime(nytimes_2022[\"date\"], infer_datetime_format=True)\n",
    "nytimes_2022['date']\n",
    "\n",
    "nytimes_2022 = nytimes_2022.sort_values(by=[\"state\",\"cases\"])\n",
    "nytimes_2022\n",
    "\n",
    "nytimes_2022.plot(x='date', kind = 'line', use_index=True)\n",
    "plt.title(\"Cumulative number of coronavirus cases and deaths - 2022\")\n",
    "plt.xlabel(\"Date\")\n",
    "plt.ylabel(\"Number of people\")\n",
    "plt.show()"
   ]
  },
  {
   "cell_type": "markdown",
   "id": "7b5c9c8f",
   "metadata": {},
   "source": [
    "### Live"
   ]
  },
  {
   "cell_type": "code",
   "execution_count": 13,
   "id": "04c12cb1",
   "metadata": {
    "collapsed": true
   },
   "outputs": [
    {
     "data": {
      "text/html": [
       "<iframe src=\"https://www.worldometers.info/coronavirus/country/us/#graph-cases-daily\" width=\"1200\" height=\"1000\"></iframe>\n"
      ],
      "text/plain": [
       "<IPython.core.display.HTML object>"
      ]
     },
     "metadata": {},
     "output_type": "display_data"
    }
   ],
   "source": [
    "%%html\n",
    "<iframe src=\"https://www.worldometers.info/coronavirus/country/us/#graph-cases-daily\" width=\"1200\" height=\"1000\"></iframe>"
   ]
  },
  {
   "cell_type": "markdown",
   "id": "28426033",
   "metadata": {},
   "source": [
    "# <font color=black>------------------------------------------------------------------------------------------</font>"
   ]
  }
 ],
 "metadata": {
  "kernelspec": {
   "display_name": "Python 3 (ipykernel)",
   "language": "python",
   "name": "python3"
  },
  "language_info": {
   "codemirror_mode": {
    "name": "ipython",
    "version": 3
   },
   "file_extension": ".py",
   "mimetype": "text/x-python",
   "name": "python",
   "nbconvert_exporter": "python",
   "pygments_lexer": "ipython3",
   "version": "3.9.7"
  }
 },
 "nbformat": 4,
 "nbformat_minor": 5
}
