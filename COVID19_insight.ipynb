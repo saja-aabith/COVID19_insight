{
 "cells": [
  {
   "cell_type": "markdown",
   "id": "1c04ff2c",
   "metadata": {},
   "source": [
    "# <font color=purple>COVID19 Insight</font>"
   ]
  },
  {
   "cell_type": "markdown",
   "id": "3fea3c40",
   "metadata": {},
   "source": [
    "## Use Google Trends API to create:\n",
    "### - a data table\n",
    "### - an insights narrative\n",
    "### - to help communicate what you believe to be important information"
   ]
  },
  {
   "cell_type": "code",
   "execution_count": 1,
   "id": "c9c8da3b",
   "metadata": {
    "collapsed": true
   },
   "outputs": [
    {
     "name": "stdout",
     "output_type": "stream",
     "text": [
      "Requirement already satisfied: pytrends in /Users/SA/opt/anaconda3/lib/python3.9/site-packages (4.8.0)\n",
      "Requirement already satisfied: pandas>=0.25 in /Users/SA/opt/anaconda3/lib/python3.9/site-packages (from pytrends) (1.3.4)\n",
      "Requirement already satisfied: lxml in /Users/SA/opt/anaconda3/lib/python3.9/site-packages (from pytrends) (4.6.3)\n",
      "Requirement already satisfied: requests>=2.0 in /Users/SA/opt/anaconda3/lib/python3.9/site-packages (from pytrends) (2.26.0)\n",
      "Requirement already satisfied: python-dateutil>=2.7.3 in /Users/SA/opt/anaconda3/lib/python3.9/site-packages (from pandas>=0.25->pytrends) (2.8.2)\n",
      "Requirement already satisfied: pytz>=2017.3 in /Users/SA/opt/anaconda3/lib/python3.9/site-packages (from pandas>=0.25->pytrends) (2021.3)\n",
      "Requirement already satisfied: numpy>=1.17.3 in /Users/SA/opt/anaconda3/lib/python3.9/site-packages (from pandas>=0.25->pytrends) (1.20.3)\n",
      "Requirement already satisfied: six>=1.5 in /Users/SA/opt/anaconda3/lib/python3.9/site-packages (from python-dateutil>=2.7.3->pandas>=0.25->pytrends) (1.16.0)\n",
      "Requirement already satisfied: idna<4,>=2.5 in /Users/SA/opt/anaconda3/lib/python3.9/site-packages (from requests>=2.0->pytrends) (3.2)\n",
      "Requirement already satisfied: certifi>=2017.4.17 in /Users/SA/opt/anaconda3/lib/python3.9/site-packages (from requests>=2.0->pytrends) (2021.10.8)\n",
      "Requirement already satisfied: charset-normalizer~=2.0.0 in /Users/SA/opt/anaconda3/lib/python3.9/site-packages (from requests>=2.0->pytrends) (2.0.4)\n",
      "Requirement already satisfied: urllib3<1.27,>=1.21.1 in /Users/SA/opt/anaconda3/lib/python3.9/site-packages (from requests>=2.0->pytrends) (1.26.7)\n",
      "Note: you may need to restart the kernel to use updated packages.\n"
     ]
    }
   ],
   "source": [
    "pip install pytrends"
   ]
  },
  {
   "cell_type": "markdown",
   "id": "3bb99d93",
   "metadata": {},
   "source": [
    "# <font color=black>------------------------------------------------------------------------------------------</font>"
   ]
  },
  {
   "cell_type": "markdown",
   "id": "4b0218ce",
   "metadata": {},
   "source": [
    "# <font color=green>Exploring NYTimes dataset</font>\n",
    "#### Source: https://github.com/nytimes/covid-19-data"
   ]
  },
  {
   "cell_type": "code",
   "execution_count": 47,
   "id": "02561ef3",
   "metadata": {
    "collapsed": true
   },
   "outputs": [
    {
     "data": {
      "image/png": "[encoded data removed]",
      "text/plain": [
       "<Figure size 432x288 with 1 Axes>"
      ]
     },
     "metadata": {
      "needs_background": "light"
     },
     "output_type": "display_data"
    }
   ],
   "source": [
    "import pandas as pd\n",
    "import matplotlib.pyplot as plt\n",
    "\n",
    "nytimes_2020_Jan_to_Jun = pd.read_csv (r'Data/NYTimes/us-counties-2020-Jan-Jun.txt')\n",
    "nytimes_2020_Jan_to_Jun.to_csv (r'Data/NYTimes/us-counties-2020-Jan-Jun.csv', index=None)\n",
    "nytimes_2020_Jan_to_Jun\n",
    "\n",
    "nytimes_2020_Jan_to_Jun = nytimes_2020_Jan_to_Jun.drop(['county','fips'], axis=1)\n",
    "\n",
    "nytimes_2020_Jan_to_Jun['date'] = pd.to_datetime(nytimes_2020_Jan_to_Jun[\"date\"], infer_datetime_format=True)\n",
    "nytimes_2020_Jan_to_Jun['date']\n",
    "\n",
    "nytimes_2020_Jan_to_Jun['cases'].sum()\n",
    "\n",
    "nytimes_2020_Jan_to_Jun['deaths'].sum()\n",
    "\n",
    "nytimes_2020_Jan_to_Jun.plot(x='date', kind = 'line', use_index=True)\n",
    "plt.show()"
   ]
  },
  {
   "cell_type": "code",
   "execution_count": 15,
   "id": "daf2577b",
   "metadata": {
    "collapsed": true
   },
   "outputs": [
    {
     "data": {
      "text/html": [
       "<div>\n",
       "<style scoped>\n",
       "    .dataframe tbody tr th:only-of-type {\n",
       "        vertical-align: middle;\n",
       "    }\n",
       "\n",
       "    .dataframe tbody tr th {\n",
       "        vertical-align: top;\n",
       "    }\n",
       "\n",
       "    .dataframe thead th {\n",
       "        text-align: right;\n",
       "    }\n",
       "</style>\n",
       "<table border=\"1\" class=\"dataframe\">\n",
       "  <thead>\n",
       "    <tr style=\"text-align: right;\">\n",
       "      <th></th>\n",
       "      <th>date</th>\n",
       "      <th>county</th>\n",
       "      <th>state</th>\n",
       "      <th>fips</th>\n",
       "      <th>cases</th>\n",
       "      <th>deaths</th>\n",
       "    </tr>\n",
       "  </thead>\n",
       "  <tbody>\n",
       "    <tr>\n",
       "      <th>0</th>\n",
       "      <td>2022-01-01</td>\n",
       "      <td>Autauga</td>\n",
       "      <td>Alabama</td>\n",
       "      <td>1001.0</td>\n",
       "      <td>11018</td>\n",
       "      <td>160.0</td>\n",
       "    </tr>\n",
       "    <tr>\n",
       "      <th>1</th>\n",
       "      <td>2022-01-01</td>\n",
       "      <td>Baldwin</td>\n",
       "      <td>Alabama</td>\n",
       "      <td>1003.0</td>\n",
       "      <td>39911</td>\n",
       "      <td>593.0</td>\n",
       "    </tr>\n",
       "    <tr>\n",
       "      <th>2</th>\n",
       "      <td>2022-01-01</td>\n",
       "      <td>Barbour</td>\n",
       "      <td>Alabama</td>\n",
       "      <td>1005.0</td>\n",
       "      <td>3860</td>\n",
       "      <td>81.0</td>\n",
       "    </tr>\n",
       "    <tr>\n",
       "      <th>3</th>\n",
       "      <td>2022-01-01</td>\n",
       "      <td>Bibb</td>\n",
       "      <td>Alabama</td>\n",
       "      <td>1007.0</td>\n",
       "      <td>4533</td>\n",
       "      <td>95.0</td>\n",
       "    </tr>\n",
       "    <tr>\n",
       "      <th>4</th>\n",
       "      <td>2022-01-01</td>\n",
       "      <td>Blount</td>\n",
       "      <td>Alabama</td>\n",
       "      <td>1009.0</td>\n",
       "      <td>11256</td>\n",
       "      <td>198.0</td>\n",
       "    </tr>\n",
       "    <tr>\n",
       "      <th>...</th>\n",
       "      <td>...</td>\n",
       "      <td>...</td>\n",
       "      <td>...</td>\n",
       "      <td>...</td>\n",
       "      <td>...</td>\n",
       "      <td>...</td>\n",
       "    </tr>\n",
       "    <tr>\n",
       "      <th>422943</th>\n",
       "      <td>2022-05-10</td>\n",
       "      <td>Sweetwater</td>\n",
       "      <td>Wyoming</td>\n",
       "      <td>56037.0</td>\n",
       "      <td>11088</td>\n",
       "      <td>126.0</td>\n",
       "    </tr>\n",
       "    <tr>\n",
       "      <th>422944</th>\n",
       "      <td>2022-05-10</td>\n",
       "      <td>Teton</td>\n",
       "      <td>Wyoming</td>\n",
       "      <td>56039.0</td>\n",
       "      <td>10074</td>\n",
       "      <td>16.0</td>\n",
       "    </tr>\n",
       "    <tr>\n",
       "      <th>422945</th>\n",
       "      <td>2022-05-10</td>\n",
       "      <td>Uinta</td>\n",
       "      <td>Wyoming</td>\n",
       "      <td>56041.0</td>\n",
       "      <td>5643</td>\n",
       "      <td>39.0</td>\n",
       "    </tr>\n",
       "    <tr>\n",
       "      <th>422946</th>\n",
       "      <td>2022-05-10</td>\n",
       "      <td>Washakie</td>\n",
       "      <td>Wyoming</td>\n",
       "      <td>56043.0</td>\n",
       "      <td>2358</td>\n",
       "      <td>44.0</td>\n",
       "    </tr>\n",
       "    <tr>\n",
       "      <th>422947</th>\n",
       "      <td>2022-05-10</td>\n",
       "      <td>Weston</td>\n",
       "      <td>Wyoming</td>\n",
       "      <td>56045.0</td>\n",
       "      <td>1588</td>\n",
       "      <td>18.0</td>\n",
       "    </tr>\n",
       "  </tbody>\n",
       "</table>\n",
       "<p>422948 rows × 6 columns</p>\n",
       "</div>"
      ],
      "text/plain": [
       "              date      county    state     fips  cases  deaths\n",
       "0       2022-01-01     Autauga  Alabama   1001.0  11018   160.0\n",
       "1       2022-01-01     Baldwin  Alabama   1003.0  39911   593.0\n",
       "2       2022-01-01     Barbour  Alabama   1005.0   3860    81.0\n",
       "3       2022-01-01        Bibb  Alabama   1007.0   4533    95.0\n",
       "4       2022-01-01      Blount  Alabama   1009.0  11256   198.0\n",
       "...            ...         ...      ...      ...    ...     ...\n",
       "422943  2022-05-10  Sweetwater  Wyoming  56037.0  11088   126.0\n",
       "422944  2022-05-10       Teton  Wyoming  56039.0  10074    16.0\n",
       "422945  2022-05-10       Uinta  Wyoming  56041.0   5643    39.0\n",
       "422946  2022-05-10    Washakie  Wyoming  56043.0   2358    44.0\n",
       "422947  2022-05-10      Weston  Wyoming  56045.0   1588    18.0\n",
       "\n",
       "[422948 rows x 6 columns]"
      ]
     },
     "execution_count": 15,
     "metadata": {},
     "output_type": "execute_result"
    }
   ],
   "source": [
    "nytimes_2022_Jan_to_May = pd.read_csv (r'Data/NYTimes/us-counties-2022-Jan-May.txt')\n",
    "nytimes_2022_Jan_to_May.to_csv (r'Data/NYTimes/us-counties-2022-Jan-May.csv', index=None)\n",
    "nytimes_2022_Jan_to_May\n",
    "\n",
    "nytimes_2022_Jan_to_May = nytimes_2022_Jan_to_May.drop(['county','fips'], axis=1)\n",
    "\n",
    "nytimes_2022_Jan_to_May['date'] = pd.to_datetime(nytimes_2022_Jan_to_May[\"date\"], infer_datetime_format=True)\n",
    "nytimes_2022_Jan_to_May['date']\n",
    "\n",
    "nytimes_2022_Jan_to_May['cases'].sum()\n",
    "\n",
    "nytimes_2022_Jan_to_May['deaths'].sum()\n",
    "\n",
    "nytimes_2022_Jan_to_May.plot(x='date', kind = 'line', use_index=True)\n",
    "plt.show()"
   ]
  },
  {
   "cell_type": "markdown",
   "id": "ba79093e",
   "metadata": {},
   "source": [
    "# <font color=black>------------------------------------------------------------------------------------------</font>"
   ]
  },
  {
   "cell_type": "markdown",
   "id": "6e94d2f8",
   "metadata": {},
   "source": [
    "# <font color=green>Exploring pytrends</font>"
   ]
  },
  {
   "cell_type": "code",
   "execution_count": 82,
   "id": "65675b23",
   "metadata": {},
   "outputs": [],
   "source": [
    "from pytrends.request import TrendReq\n",
    "\n",
    "pytrends = TrendReq(hl='en-US', tz=360)\n",
    "\n",
    "kw_list = [\"/m/01cpyy\",\"covid symptoms\",\"covid cases\",\"unemployment benefits\",\"covid vaccine\"]\n",
    "pytrends.build_payload(kw_list, cat=0, timeframe='2022-01-01 2022-05-11', geo='US', gprop='')"
   ]
  },
  {
   "cell_type": "markdown",
   "id": "36eafa11",
   "metadata": {},
   "source": [
    "## Using pytrends to find an encoded topic"
   ]
  },
  {
   "cell_type": "code",
   "execution_count": 77,
   "id": "02736289",
   "metadata": {
    "collapsed": true
   },
   "outputs": [
    {
     "data": {
      "text/plain": [
       "[{'mid': '/g/11j8_9sv06', 'title': 'COVID-19 vaccine', 'type': 'Vaccine'},\n",
       " {'mid': '/g/11lgrt_kcf', 'title': 'BNT162b2', 'type': 'Vaccine'},\n",
       " {'mid': '/g/11lll849zh', 'title': 'Nuvaxovid', 'type': 'Vaccine'},\n",
       " {'mid': '/g/11ll0qhr92', 'title': 'Ad26.COV2.S', 'type': 'Vaccine'},\n",
       " {'mid': '/g/11mtfzp621', 'title': 'AZD1222', 'type': 'Vaccine'}]"
      ]
     },
     "execution_count": 77,
     "metadata": {},
     "output_type": "execute_result"
    }
   ],
   "source": [
    "covid_vaccine = pytrends.suggestions('covid vaccine')\n",
    "covid_vaccine"
   ]
  },
  {
   "cell_type": "code",
   "execution_count": 78,
   "id": "5b99c76b",
   "metadata": {},
   "outputs": [
    {
     "data": {
      "text/plain": [
       "[{'mid': '/m/0hzqk8z', 'title': 'Face mask', 'type': 'Topic'},\n",
       " {'mid': '/m/07cs8z',\n",
       "  'title': 'Brian Baldinger',\n",
       "  'type': 'American football offensive lineman'},\n",
       " {'mid': '/g/11n2b_zsts',\n",
       "  'title': '2021 CDU/CSU Facemask Scandal',\n",
       "  'type': 'Topic'}]"
      ]
     },
     "execution_count": 78,
     "metadata": {},
     "output_type": "execute_result"
    }
   ],
   "source": [
    "facemask = pytrends.suggestions('facemask')\n",
    "facemask"
   ]
  },
  {
   "cell_type": "code",
   "execution_count": 84,
   "id": "2b6a5fe2",
   "metadata": {
    "collapsed": true
   },
   "outputs": [
    {
     "data": {
      "text/plain": [
       "[{'mid': '/m/080d9yc', 'title': 'Ukraine', 'type': 'TV channel'},\n",
       " {'mid': '/m/03ytp3',\n",
       "  'title': 'Ukraine national football team',\n",
       "  'type': 'Football team'},\n",
       " {'mid': '/m/04xl48',\n",
       "  'title': 'Cabinet of Ministers of Ukraine',\n",
       "  'type': 'Governing body'},\n",
       " {'mid': '/m/0_x6d5x', 'title': 'Russo-Ukrainian War', 'type': 'War'},\n",
       " {'mid': '/m/0zbxgnh',\n",
       "  'title': 'State Savings Bank of Ukraine',\n",
       "  'type': 'Company'}]"
      ]
     },
     "execution_count": 84,
     "metadata": {},
     "output_type": "execute_result"
    }
   ],
   "source": [
    "ukraine = pytrends.suggestions('ukraine')\n",
    "ukraine"
   ]
  },
  {
   "cell_type": "code",
   "execution_count": 87,
   "id": "cc9daa37",
   "metadata": {},
   "outputs": [],
   "source": [
    "kw_list = [\"/m/01cpyy\",\"covid symptoms\",\"covid cases\",\"/m/0_x6d5x\",\"covid vaccine\"]\n",
    "pytrends.build_payload(kw_list, cat=0, timeframe='2022-01-01 2022-05-11', geo='US', gprop='')"
   ]
  },
  {
   "cell_type": "markdown",
   "id": "68fa7581",
   "metadata": {},
   "source": [
    "## Available pytrend methods"
   ]
  },
  {
   "cell_type": "markdown",
   "id": "e9ae1705",
   "metadata": {},
   "source": [
    "### Interest Over Time"
   ]
  },
  {
   "cell_type": "code",
   "execution_count": 88,
   "id": "2dab4ae0",
   "metadata": {},
   "outputs": [
    {
     "data": {
      "image/png": "[encoded data removed]",
      "text/plain": [
       "<Figure size 432x288 with 1 Axes>"
      ]
     },
     "metadata": {
      "needs_background": "light"
     },
     "output_type": "display_data"
    }
   ],
   "source": [
    "interest = pytrends.interest_over_time()\n",
    "interest\n",
    "\n",
    "interest.plot(kind = 'line', use_index=True)\n",
    "#interest.plot(y='covid deaths', kind = 'line', use_index=True)\n",
    "#interest.plot(y='covid cases', kind = 'line', use_index=True)\n",
    "plt.show()"
   ]
  },
  {
   "cell_type": "markdown",
   "id": "86bf5a1d",
   "metadata": {},
   "source": [
    "### Historical Hourly Interest"
   ]
  },
  {
   "cell_type": "code",
   "execution_count": 34,
   "id": "e4a75dd3",
   "metadata": {},
   "outputs": [],
   "source": [
    "h_interest = pytrends.get_historical_interest(kw_list, year_start=2022, month_start=1, day_start=1, hour_start=0, year_end=2022, month_end=5, day_end=11, hour_end=0, cat=0, geo='US', gprop='', sleep=0)\n",
    "\n",
    "h_interest.plot(kind = 'line', use_index=True)\n",
    "plt.show()"
   ]
  },
  {
   "cell_type": "markdown",
   "id": "7cda1585",
   "metadata": {},
   "source": [
    "### Interest by Region"
   ]
  },
  {
   "cell_type": "code",
   "execution_count": 52,
   "id": "ab8be022",
   "metadata": {
    "collapsed": true
   },
   "outputs": [
    {
     "data": {
      "image/png": "[encoded data removed]",
      "text/plain": [
       "<Figure size 432x288 with 1 Axes>"
      ]
     },
     "metadata": {
      "needs_background": "light"
     },
     "output_type": "display_data"
    }
   ],
   "source": [
    "r_interest = pytrends.interest_by_region(resolution='REGION', inc_low_vol=True, inc_geo_code=True)\n",
    "r_interest\n",
    "\n",
    "r_interest.plot(kind = 'line', use_index=True)\n",
    "plt.show()"
   ]
  },
  {
   "cell_type": "markdown",
   "id": "34ccb0b1",
   "metadata": {},
   "source": [
    "### Trending search"
   ]
  },
  {
   "cell_type": "code",
   "execution_count": 40,
   "id": "56d7084e",
   "metadata": {
    "collapsed": true
   },
   "outputs": [
    {
     "data": {
      "text/html": [
       "<div>\n",
       "<style scoped>\n",
       "    .dataframe tbody tr th:only-of-type {\n",
       "        vertical-align: middle;\n",
       "    }\n",
       "\n",
       "    .dataframe tbody tr th {\n",
       "        vertical-align: top;\n",
       "    }\n",
       "\n",
       "    .dataframe thead th {\n",
       "        text-align: right;\n",
       "    }\n",
       "</style>\n",
       "<table border=\"1\" class=\"dataframe\">\n",
       "  <thead>\n",
       "    <tr style=\"text-align: right;\">\n",
       "      <th></th>\n",
       "      <th>0</th>\n",
       "    </tr>\n",
       "  </thead>\n",
       "  <tbody>\n",
       "    <tr>\n",
       "      <th>0</th>\n",
       "      <td>Suns</td>\n",
       "    </tr>\n",
       "    <tr>\n",
       "      <th>1</th>\n",
       "      <td>Inflation</td>\n",
       "    </tr>\n",
       "    <tr>\n",
       "      <th>2</th>\n",
       "      <td>Trevor Strnad</td>\n",
       "    </tr>\n",
       "    <tr>\n",
       "      <th>3</th>\n",
       "      <td>St. Louis Blues</td>\n",
       "    </tr>\n",
       "    <tr>\n",
       "      <th>4</th>\n",
       "      <td>Chelsea</td>\n",
       "    </tr>\n",
       "    <tr>\n",
       "      <th>5</th>\n",
       "      <td>Mike Tyson</td>\n",
       "    </tr>\n",
       "    <tr>\n",
       "      <th>6</th>\n",
       "      <td>Wolves vs Man City</td>\n",
       "    </tr>\n",
       "    <tr>\n",
       "      <th>7</th>\n",
       "      <td>Tampa Bay Lightning</td>\n",
       "    </tr>\n",
       "    <tr>\n",
       "      <th>8</th>\n",
       "      <td>Zara Phythian</td>\n",
       "    </tr>\n",
       "    <tr>\n",
       "      <th>9</th>\n",
       "      <td>Zac Efron</td>\n",
       "    </tr>\n",
       "    <tr>\n",
       "      <th>10</th>\n",
       "      <td>Google I/O</td>\n",
       "    </tr>\n",
       "    <tr>\n",
       "      <th>11</th>\n",
       "      <td>Peloton</td>\n",
       "    </tr>\n",
       "    <tr>\n",
       "      <th>12</th>\n",
       "      <td>Blue Jays vs Yankees</td>\n",
       "    </tr>\n",
       "    <tr>\n",
       "      <th>13</th>\n",
       "      <td>Nebraska governor race</td>\n",
       "    </tr>\n",
       "    <tr>\n",
       "      <th>14</th>\n",
       "      <td>Mandy Moore</td>\n",
       "    </tr>\n",
       "    <tr>\n",
       "      <th>15</th>\n",
       "      <td>Halsey</td>\n",
       "    </tr>\n",
       "    <tr>\n",
       "      <th>16</th>\n",
       "      <td>Shireen Abu aqleh</td>\n",
       "    </tr>\n",
       "    <tr>\n",
       "      <th>17</th>\n",
       "      <td>Clarence Dixon</td>\n",
       "    </tr>\n",
       "    <tr>\n",
       "      <th>18</th>\n",
       "      <td>Miami Heat</td>\n",
       "    </tr>\n",
       "    <tr>\n",
       "      <th>19</th>\n",
       "      <td>LUNA crypto</td>\n",
       "    </tr>\n",
       "  </tbody>\n",
       "</table>\n",
       "</div>"
      ],
      "text/plain": [
       "                         0\n",
       "0                     Suns\n",
       "1                Inflation\n",
       "2            Trevor Strnad\n",
       "3          St. Louis Blues\n",
       "4                  Chelsea\n",
       "5               Mike Tyson\n",
       "6       Wolves vs Man City\n",
       "7      Tampa Bay Lightning\n",
       "8            Zara Phythian\n",
       "9                Zac Efron\n",
       "10              Google I/O\n",
       "11                 Peloton\n",
       "12    Blue Jays vs Yankees\n",
       "13  Nebraska governor race\n",
       "14             Mandy Moore\n",
       "15                  Halsey\n",
       "16       Shireen Abu aqleh\n",
       "17          Clarence Dixon\n",
       "18              Miami Heat\n",
       "19             LUNA crypto"
      ]
     },
     "execution_count": 40,
     "metadata": {},
     "output_type": "execute_result"
    }
   ],
   "source": [
    "trending_search = pytrends.trending_searches(pn='united_states')\n",
    "trending_search\n",
    "\n",
    "trending_search.plot(kind = 'bar', use_index=True)\n",
    "plt.show()"
   ]
  },
  {
   "cell_type": "markdown",
   "id": "920640b1",
   "metadata": {},
   "source": [
    "### Realtime search trends"
   ]
  },
  {
   "cell_type": "code",
   "execution_count": 54,
   "id": "4ec2b7a7",
   "metadata": {
    "collapsed": true
   },
   "outputs": [
    {
     "data": {
      "text/html": [
       "<div>\n",
       "<style scoped>\n",
       "    .dataframe tbody tr th:only-of-type {\n",
       "        vertical-align: middle;\n",
       "    }\n",
       "\n",
       "    .dataframe tbody tr th {\n",
       "        vertical-align: top;\n",
       "    }\n",
       "\n",
       "    .dataframe thead th {\n",
       "        text-align: right;\n",
       "    }\n",
       "</style>\n",
       "<table border=\"1\" class=\"dataframe\">\n",
       "  <thead>\n",
       "    <tr style=\"text-align: right;\">\n",
       "      <th></th>\n",
       "      <th>title</th>\n",
       "      <th>entityNames</th>\n",
       "    </tr>\n",
       "  </thead>\n",
       "  <tbody>\n",
       "    <tr>\n",
       "      <th>0</th>\n",
       "      <td>Boston Celtics, Milwaukee Bucks, Giannis Antet...</td>\n",
       "      <td>[Boston Celtics, Milwaukee Bucks, Giannis Ante...</td>\n",
       "    </tr>\n",
       "    <tr>\n",
       "      <th>1</th>\n",
       "      <td>New York Rangers, Pittsburgh Penguins, Nationa...</td>\n",
       "      <td>[New York Rangers, Pittsburgh Penguins, Nation...</td>\n",
       "    </tr>\n",
       "    <tr>\n",
       "      <th>2</th>\n",
       "      <td>Blizzard Entertainment, Battle.net, Diablo, Ov...</td>\n",
       "      <td>[Blizzard Entertainment, Battle.net, Diablo, O...</td>\n",
       "    </tr>\n",
       "    <tr>\n",
       "      <th>3</th>\n",
       "      <td>Laguna Niguel, Wildfire, Orange County, Aliso ...</td>\n",
       "      <td>[Laguna Niguel, Wildfire, Orange County, Aliso...</td>\n",
       "    </tr>\n",
       "    <tr>\n",
       "      <th>4</th>\n",
       "      <td>Severe weather, Tornado, Minnesota, Tornado wa...</td>\n",
       "      <td>[Severe weather, Tornado, Minnesota, Tornado w...</td>\n",
       "    </tr>\n",
       "    <tr>\n",
       "      <th>...</th>\n",
       "      <td>...</td>\n",
       "      <td>...</td>\n",
       "    </tr>\n",
       "    <tr>\n",
       "      <th>84</th>\n",
       "      <td>Ben Simmons, Brooklyn Nets, Philadelphia 76ers...</td>\n",
       "      <td>[Ben Simmons, Brooklyn Nets, Philadelphia 76er...</td>\n",
       "    </tr>\n",
       "    <tr>\n",
       "      <th>85</th>\n",
       "      <td>Goop, Gwyneth Paltrow, Alpaca</td>\n",
       "      <td>[Goop, Gwyneth Paltrow, Alpaca]</td>\n",
       "    </tr>\n",
       "    <tr>\n",
       "      <th>86</th>\n",
       "      <td>Detroit Tigers, Oakland Athletics, MLB</td>\n",
       "      <td>[Detroit Tigers, Oakland Athletics, MLB]</td>\n",
       "    </tr>\n",
       "    <tr>\n",
       "      <th>87</th>\n",
       "      <td>Mankato, Minnesota</td>\n",
       "      <td>[Mankato, Minnesota]</td>\n",
       "    </tr>\n",
       "    <tr>\n",
       "      <th>88</th>\n",
       "      <td>Fred Savage, The Wonder Years, Jason Hervey, A...</td>\n",
       "      <td>[Fred Savage, The Wonder Years, Jason Hervey, ...</td>\n",
       "    </tr>\n",
       "  </tbody>\n",
       "</table>\n",
       "<p>89 rows × 2 columns</p>\n",
       "</div>"
      ],
      "text/plain": [
       "                                                title  \\\n",
       "0   Boston Celtics, Milwaukee Bucks, Giannis Antet...   \n",
       "1   New York Rangers, Pittsburgh Penguins, Nationa...   \n",
       "2   Blizzard Entertainment, Battle.net, Diablo, Ov...   \n",
       "3   Laguna Niguel, Wildfire, Orange County, Aliso ...   \n",
       "4   Severe weather, Tornado, Minnesota, Tornado wa...   \n",
       "..                                                ...   \n",
       "84  Ben Simmons, Brooklyn Nets, Philadelphia 76ers...   \n",
       "85                      Goop, Gwyneth Paltrow, Alpaca   \n",
       "86             Detroit Tigers, Oakland Athletics, MLB   \n",
       "87                                 Mankato, Minnesota   \n",
       "88  Fred Savage, The Wonder Years, Jason Hervey, A...   \n",
       "\n",
       "                                          entityNames  \n",
       "0   [Boston Celtics, Milwaukee Bucks, Giannis Ante...  \n",
       "1   [New York Rangers, Pittsburgh Penguins, Nation...  \n",
       "2   [Blizzard Entertainment, Battle.net, Diablo, O...  \n",
       "3   [Laguna Niguel, Wildfire, Orange County, Aliso...  \n",
       "4   [Severe weather, Tornado, Minnesota, Tornado w...  \n",
       "..                                                ...  \n",
       "84  [Ben Simmons, Brooklyn Nets, Philadelphia 76er...  \n",
       "85                    [Goop, Gwyneth Paltrow, Alpaca]  \n",
       "86           [Detroit Tigers, Oakland Athletics, MLB]  \n",
       "87                               [Mankato, Minnesota]  \n",
       "88  [Fred Savage, The Wonder Years, Jason Hervey, ...  \n",
       "\n",
       "[89 rows x 2 columns]"
      ]
     },
     "execution_count": 54,
     "metadata": {},
     "output_type": "execute_result"
    }
   ],
   "source": [
    "realtime_trends = pytrends.realtime_trending_searches(pn='US')\n",
    "realtime_trends"
   ]
  },
  {
   "cell_type": "markdown",
   "id": "75f2d6d2",
   "metadata": {},
   "source": [
    "### Top Charts*"
   ]
  },
  {
   "cell_type": "code",
   "execution_count": 60,
   "id": "61023a34",
   "metadata": {
    "collapsed": true
   },
   "outputs": [
    {
     "data": {
      "text/html": [
       "<div>\n",
       "<style scoped>\n",
       "    .dataframe tbody tr th:only-of-type {\n",
       "        vertical-align: middle;\n",
       "    }\n",
       "\n",
       "    .dataframe tbody tr th {\n",
       "        vertical-align: top;\n",
       "    }\n",
       "\n",
       "    .dataframe thead th {\n",
       "        text-align: right;\n",
       "    }\n",
       "</style>\n",
       "<table border=\"1\" class=\"dataframe\">\n",
       "  <thead>\n",
       "    <tr style=\"text-align: right;\">\n",
       "      <th></th>\n",
       "      <th>title</th>\n",
       "      <th>exploreQuery</th>\n",
       "    </tr>\n",
       "  </thead>\n",
       "  <tbody>\n",
       "    <tr>\n",
       "      <th>0</th>\n",
       "      <td>Election results</td>\n",
       "      <td></td>\n",
       "    </tr>\n",
       "    <tr>\n",
       "      <th>1</th>\n",
       "      <td>Coronavirus</td>\n",
       "      <td></td>\n",
       "    </tr>\n",
       "    <tr>\n",
       "      <th>2</th>\n",
       "      <td>Kobe Bryant</td>\n",
       "      <td></td>\n",
       "    </tr>\n",
       "    <tr>\n",
       "      <th>3</th>\n",
       "      <td>Coronavirus update</td>\n",
       "      <td></td>\n",
       "    </tr>\n",
       "    <tr>\n",
       "      <th>4</th>\n",
       "      <td>Coronavirus symptoms</td>\n",
       "      <td></td>\n",
       "    </tr>\n",
       "    <tr>\n",
       "      <th>5</th>\n",
       "      <td>Zoom</td>\n",
       "      <td></td>\n",
       "    </tr>\n",
       "    <tr>\n",
       "      <th>6</th>\n",
       "      <td>Who is winning the election</td>\n",
       "      <td></td>\n",
       "    </tr>\n",
       "    <tr>\n",
       "      <th>7</th>\n",
       "      <td>Naya Rivera</td>\n",
       "      <td></td>\n",
       "    </tr>\n",
       "    <tr>\n",
       "      <th>8</th>\n",
       "      <td>Chadwick Boseman</td>\n",
       "      <td></td>\n",
       "    </tr>\n",
       "    <tr>\n",
       "      <th>9</th>\n",
       "      <td>PlayStation 5</td>\n",
       "      <td>PS5</td>\n",
       "    </tr>\n",
       "  </tbody>\n",
       "</table>\n",
       "</div>"
      ],
      "text/plain": [
       "                         title exploreQuery\n",
       "0             Election results             \n",
       "1                  Coronavirus             \n",
       "2                  Kobe Bryant             \n",
       "3           Coronavirus update             \n",
       "4         Coronavirus symptoms             \n",
       "5                         Zoom             \n",
       "6  Who is winning the election             \n",
       "7                  Naya Rivera             \n",
       "8             Chadwick Boseman             \n",
       "9                PlayStation 5          PS5"
      ]
     },
     "execution_count": 60,
     "metadata": {},
     "output_type": "execute_result"
    }
   ],
   "source": [
    "top_charts = pytrends.top_charts(2020, hl='en-US', tz=300, geo='US')\n",
    "top_charts"
   ]
  },
  {
   "cell_type": "markdown",
   "id": "aad58b25",
   "metadata": {},
   "source": [
    "### Related topics"
   ]
  },
  {
   "cell_type": "code",
   "execution_count": 46,
   "id": "5fcb9e8e",
   "metadata": {
    "collapsed": true
   },
   "outputs": [
    {
     "data": {
      "text/plain": [
       "{}"
      ]
     },
     "execution_count": 46,
     "metadata": {},
     "output_type": "execute_result"
    }
   ],
   "source": [
    "related_topics = pytrends.related_topics()\n",
    "related_topics"
   ]
  },
  {
   "cell_type": "code",
   "execution_count": null,
   "id": "74b7a9f4",
   "metadata": {},
   "outputs": [],
   "source": []
  }
 ],
 "metadata": {
  "kernelspec": {
   "display_name": "Python 3 (ipykernel)",
   "language": "python",
   "name": "python3"
  },
  "language_info": {
   "codemirror_mode": {
    "name": "ipython",
    "version": 3
   },
   "file_extension": ".py",
   "mimetype": "text/x-python",
   "name": "python",
   "nbconvert_exporter": "python",
   "pygments_lexer": "ipython3",
   "version": "3.9.7"
  }
 },
 "nbformat": 4,
 "nbformat_minor": 5
}
