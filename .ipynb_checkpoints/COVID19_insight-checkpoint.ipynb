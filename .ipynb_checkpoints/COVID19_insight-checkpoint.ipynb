{
 "cells": [
  {
   "cell_type": "markdown",
   "id": "6c8c165a",
   "metadata": {},
   "source": [
    "# <font color=purple>COVID19 Insight</font>"
   ]
  },
  {
   "cell_type": "markdown",
   "id": "d6f1777b",
   "metadata": {},
   "source": [
    "## Use Google Trends API to create:\n",
    "### - a data table\n",
    "### - an insights narrative\n",
    "### - to help communicate what you believe to be important information"
   ]
  },
  {
   "cell_type": "code",
   "execution_count": null,
   "id": "b5022abe",
   "metadata": {},
   "outputs": [],
   "source": [
    "pip install pytrends"
   ]
  },
  {
   "cell_type": "markdown",
   "id": "b91ea0a3",
   "metadata": {},
   "source": [
    "# <font color=black>------------------------------------------------------------------------------------------</font>"
   ]
  },
  {
   "cell_type": "markdown",
   "id": "7112cb27",
   "metadata": {},
   "source": [
    "# <font color=green>Exploring pytrends</font>"
   ]
  },
  {
   "cell_type": "code",
   "execution_count": null,
   "id": "e72e22f8",
   "metadata": {},
   "outputs": [],
   "source": [
    "from pytrends.request import TrendReq\n",
    "\n",
    "pytrends = TrendReq(hl='en-US', tz=360)\n",
    "\n",
    "kw_list = [\"/m/01cpyy\",\"covid symptoms\",\"covid cases\",\"unemployment benefits\",\"covid vaccine\"]\n",
    "pytrends.build_payload(kw_list, cat=0, timeframe='2022-01-01 2022-05-11', geo='US', gprop='')"
   ]
  },
  {
   "cell_type": "markdown",
   "id": "2fcb35c6",
   "metadata": {},
   "source": [
    "## Using pytrends to find an encoded topic"
   ]
  },
  {
   "cell_type": "code",
   "execution_count": null,
   "id": "58787cc3",
   "metadata": {},
   "outputs": [],
   "source": [
    "covid_vaccine = pytrends.suggestions('covid vaccine')\n",
    "covid_vaccine"
   ]
  },
  {
   "cell_type": "code",
   "execution_count": null,
   "id": "32aaeba1",
   "metadata": {},
   "outputs": [],
   "source": [
    "facemask = pytrends.suggestions('facemask')\n",
    "facemask"
   ]
  },
  {
   "cell_type": "code",
   "execution_count": null,
   "id": "b4ede454",
   "metadata": {},
   "outputs": [],
   "source": [
    "ukraine = pytrends.suggestions('ukraine')\n",
    "ukraine"
   ]
  },
  {
   "cell_type": "code",
   "execution_count": null,
   "id": "b0b72926",
   "metadata": {},
   "outputs": [],
   "source": [
    "economy = pytrends.suggestions('economy')\n",
    "economy"
   ]
  },
  {
   "cell_type": "code",
   "execution_count": null,
   "id": "e1a68279",
   "metadata": {},
   "outputs": [],
   "source": [
    "kw_list = [\"/m/01cpyy\",\"covid symptoms\",\"covid cases\",\"/m/0_x6d5x\",\"covid vaccine\"]\n",
    "pytrends.build_payload(kw_list, cat=0, timeframe='2022-01-01 2022-05-11', geo='US', gprop='')"
   ]
  },
  {
   "cell_type": "markdown",
   "id": "2fb89052",
   "metadata": {},
   "source": [
    "## Available pytrend methods"
   ]
  },
  {
   "cell_type": "markdown",
   "id": "cfd19e1a",
   "metadata": {},
   "source": [
    "### Interest Over Time"
   ]
  },
  {
   "cell_type": "code",
   "execution_count": null,
   "id": "5720d3a8",
   "metadata": {},
   "outputs": [],
   "source": [
    "interest = pytrends.interest_over_time()\n",
    "interest\n",
    "\n",
    "interest.plot(kind = 'line', use_index=True)\n",
    "#interest.plot(y='covid deaths', kind = 'line', use_index=True)\n",
    "#interest.plot(y='covid cases', kind = 'line', use_index=True)\n",
    "plt.show()"
   ]
  },
  {
   "cell_type": "markdown",
   "id": "b823a174",
   "metadata": {},
   "source": [
    "### Historical Hourly Interest"
   ]
  },
  {
   "cell_type": "code",
   "execution_count": null,
   "id": "0a85f18b",
   "metadata": {},
   "outputs": [],
   "source": [
    "h_interest = pytrends.get_historical_interest(kw_list, year_start=2022, month_start=1, day_start=1, hour_start=0, year_end=2022, month_end=5, day_end=11, hour_end=0, cat=0, geo='US', gprop='', sleep=0)\n",
    "\n",
    "h_interest.plot(kind = 'line', use_index=True)\n",
    "plt.show()"
   ]
  },
  {
   "cell_type": "markdown",
   "id": "e6345312",
   "metadata": {},
   "source": [
    "### Interest by Region"
   ]
  },
  {
   "cell_type": "code",
   "execution_count": null,
   "id": "bae2dbed",
   "metadata": {},
   "outputs": [],
   "source": [
    "r_interest = pytrends.interest_by_region(resolution='REGION', inc_low_vol=True, inc_geo_code=True)\n",
    "r_interest\n",
    "\n",
    "r_interest.plot(kind = 'line', use_index=True)\n",
    "plt.show()"
   ]
  },
  {
   "cell_type": "markdown",
   "id": "5df40497",
   "metadata": {},
   "source": [
    "### Trending search"
   ]
  },
  {
   "cell_type": "code",
   "execution_count": null,
   "id": "a5e89e18",
   "metadata": {},
   "outputs": [],
   "source": [
    "trending_search = pytrends.trending_searches(pn='united_states')\n",
    "trending_search\n",
    "\n",
    "trending_search.plot(kind = 'bar', use_index=True)\n",
    "plt.show()"
   ]
  },
  {
   "cell_type": "markdown",
   "id": "edbf4106",
   "metadata": {},
   "source": [
    "### Realtime search trends"
   ]
  },
  {
   "cell_type": "code",
   "execution_count": null,
   "id": "14e8e79f",
   "metadata": {},
   "outputs": [],
   "source": [
    "realtime_trends = pytrends.realtime_trending_searches(pn='US')\n",
    "realtime_trends"
   ]
  },
  {
   "cell_type": "markdown",
   "id": "cb95f327",
   "metadata": {},
   "source": [
    "### Top Charts*"
   ]
  },
  {
   "cell_type": "code",
   "execution_count": null,
   "id": "eb74ad89",
   "metadata": {},
   "outputs": [],
   "source": [
    "top_charts = pytrends.top_charts(2020, hl='en-US', tz=300, geo='US')\n",
    "top_charts"
   ]
  },
  {
   "cell_type": "markdown",
   "id": "1cd0f437",
   "metadata": {},
   "source": [
    "### Related topics"
   ]
  },
  {
   "cell_type": "code",
   "execution_count": null,
   "id": "d849e53d",
   "metadata": {},
   "outputs": [],
   "source": [
    "related_topics = pytrends.related_topics()\n",
    "related_topics"
   ]
  },
  {
   "cell_type": "markdown",
   "id": "a55f8a5a",
   "metadata": {},
   "source": [
    "# <font color=green>Exploring NYTimes dataset</font>\n",
    "#### Source: https://github.com/nytimes/covid-19-data"
   ]
  },
  {
   "cell_type": "code",
   "execution_count": 1,
   "id": "db8a99ff",
   "metadata": {},
   "outputs": [],
   "source": [
    "import pandas as pd\n",
    "import matplotlib.pyplot as plt"
   ]
  },
  {
   "cell_type": "markdown",
   "id": "d2f591e6",
   "metadata": {},
   "source": [
    "### 2020"
   ]
  },
  {
   "cell_type": "code",
   "execution_count": 2,
   "id": "ac9120bc",
   "metadata": {
    "collapsed": true
   },
   "outputs": [
    {
     "data": {
      "image/png": "[encoded data removed]",
      "text/plain": [
       "<Figure size 432x288 with 1 Axes>"
      ]
     },
     "metadata": {
      "needs_background": "light"
     },
     "output_type": "display_data"
    }
   ],
   "source": [
    "nytimes_2020 = pd.read_csv (r'Data/NYTimes/us-counties-2020.txt')\n",
    "nytimes_2020.to_csv (r'Data/NYTimes/us-counties-2020.csv', index=None)\n",
    "nytimes_2020\n",
    "\n",
    "nytimes_2020 = nytimes_2020.drop(['county','fips'], axis=1)\n",
    "\n",
    "nytimes_2020['date'] = pd.to_datetime(nytimes_2020[\"date\"], infer_datetime_format=True)\n",
    "nytimes_2020['date']\n",
    "\n",
    "nytimes_2020['cases'].sum()\n",
    "\n",
    "nytimes_2020['deaths'].sum()\n",
    "\n",
    "nytimes_2020.plot(x='date', kind = 'line', use_index=True)\n",
    "plt.title(\"Cumulative number of coronavirus cases and deaths\")\n",
    "plt.xlabel(\"Date\")\n",
    "plt.ylabel(\"Number of people\")\n",
    "plt.show()"
   ]
  },
  {
   "cell_type": "markdown",
   "id": "c123f789",
   "metadata": {},
   "source": [
    "### 2021"
   ]
  },
  {
   "cell_type": "code",
   "execution_count": 3,
   "id": "66a4e6a7",
   "metadata": {
    "collapsed": true
   },
   "outputs": [
    {
     "data": {
      "image/png": "[encoded data removed]",
      "text/plain": [
       "<Figure size 432x288 with 1 Axes>"
      ]
     },
     "metadata": {
      "needs_background": "light"
     },
     "output_type": "display_data"
    }
   ],
   "source": [
    "nytimes_2021 = pd.read_csv (r'Data/NYTimes/us-counties-2021.txt')\n",
    "nytimes_2021.to_csv (r'Data/NYTimes/us-counties-2021.csv', index=None)\n",
    "nytimes_2021\n",
    "\n",
    "nytimes_2021 = nytimes_2021.drop(['county','fips'], axis=1)\n",
    "\n",
    "nytimes_2021['date'] = pd.to_datetime(nytimes_2021[\"date\"], infer_datetime_format=True)\n",
    "nytimes_2021['date']\n",
    "\n",
    "nytimes_2021['cases'].sum()\n",
    "\n",
    "nytimes_2021['deaths'].sum()\n",
    "\n",
    "nytimes_2021.plot(x='date', kind = 'line', use_index=True)\n",
    "plt.title(\"Cumulative number of coronavirus cases and deaths\")\n",
    "plt.xlabel(\"Date\")\n",
    "plt.ylabel(\"Number of people\")\n",
    "plt.show()"
   ]
  },
  {
   "cell_type": "code",
   "execution_count": null,
   "id": "a6573ea4",
   "metadata": {},
   "outputs": [],
   "source": [
    "#nytimes_2021['cases'].plot(x='date', kind='bar')\n",
    "#plt.show()"
   ]
  },
  {
   "cell_type": "markdown",
   "id": "42a4d4b8",
   "metadata": {},
   "source": [
    "### 2022"
   ]
  },
  {
   "cell_type": "code",
   "execution_count": null,
   "id": "eabf51cd",
   "metadata": {},
   "outputs": [],
   "source": [
    "nytimes_2022 = pd.read_csv (r'Data/NYTimes/us-counties-2022-Jan-May.txt')\n",
    "nytimes_2022.to_csv (r'Data/NYTimes/us-counties-2022-Jan-May.csv', index=None)\n",
    "nytimes_2022\n",
    "\n",
    "nytimes_2022 = nytimes_2022.drop(['county','fips'], axis=1)\n",
    "\n",
    "nytimes_2022['date'] = pd.to_datetime(nytimes_2022[\"date\"], infer_datetime_format=True)\n",
    "nytimes_2022['date']\n",
    "\n",
    "nytimes_2022['cases'].sum()\n",
    "\n",
    "nytimes_2022['deaths'].sum()\n",
    "\n",
    "nytimes_2022.plot(x='date', kind = 'line', use_index=True)\n",
    "plt.title(\"Cumulative number of coronavirus cases and deaths\")\n",
    "plt.xlabel(\"Date\")\n",
    "plt.ylabel(\"Number of people\")\n",
    "plt.show()"
   ]
  },
  {
   "cell_type": "markdown",
   "id": "b2844579",
   "metadata": {},
   "source": [
    "# <font color=black>------------------------------------------------------------------------------------------</font>"
   ]
  },
  {
   "cell_type": "code",
   "execution_count": null,
   "id": "e4625fb0",
   "metadata": {},
   "outputs": [],
   "source": []
  }
 ],
 "metadata": {
  "kernelspec": {
   "display_name": "Python 3 (ipykernel)",
   "language": "python",
   "name": "python3"
  },
  "language_info": {
   "codemirror_mode": {
    "name": "ipython",
    "version": 3
   },
   "file_extension": ".py",
   "mimetype": "text/x-python",
   "name": "python",
   "nbconvert_exporter": "python",
   "pygments_lexer": "ipython3",
   "version": "3.9.7"
  }
 },
 "nbformat": 4,
 "nbformat_minor": 5
}
