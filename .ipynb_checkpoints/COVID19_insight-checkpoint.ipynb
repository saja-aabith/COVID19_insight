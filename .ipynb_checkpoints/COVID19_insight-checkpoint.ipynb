{
 "cells": [
  {
   "cell_type": "markdown",
   "id": "d431e852",
   "metadata": {},
   "source": [
    "# COVID19 Insight"
   ]
  },
  {
   "cell_type": "markdown",
   "id": "d5313542",
   "metadata": {},
   "source": [
    "## Use Google Trends API to create:\n",
    "### - a data table\n",
    "### - an insights narrative\n",
    "### - to help communicate what you believe to be important information"
   ]
  },
  {
   "cell_type": "code",
   "execution_count": 1,
   "id": "0c4a9817",
   "metadata": {
    "collapsed": true
   },
   "outputs": [
    {
     "name": "stdout",
     "output_type": "stream",
     "text": [
      "Requirement already satisfied: pytrends in /Users/SA/opt/anaconda3/lib/python3.9/site-packages (4.8.0)\n",
      "Requirement already satisfied: requests>=2.0 in /Users/SA/opt/anaconda3/lib/python3.9/site-packages (from pytrends) (2.26.0)\n",
      "Requirement already satisfied: pandas>=0.25 in /Users/SA/opt/anaconda3/lib/python3.9/site-packages (from pytrends) (1.3.4)\n",
      "Requirement already satisfied: lxml in /Users/SA/opt/anaconda3/lib/python3.9/site-packages (from pytrends) (4.6.3)\n",
      "Requirement already satisfied: python-dateutil>=2.7.3 in /Users/SA/opt/anaconda3/lib/python3.9/site-packages (from pandas>=0.25->pytrends) (2.8.2)\n",
      "Requirement already satisfied: pytz>=2017.3 in /Users/SA/opt/anaconda3/lib/python3.9/site-packages (from pandas>=0.25->pytrends) (2021.3)\n",
      "Requirement already satisfied: numpy>=1.17.3 in /Users/SA/opt/anaconda3/lib/python3.9/site-packages (from pandas>=0.25->pytrends) (1.20.3)\n",
      "Requirement already satisfied: six>=1.5 in /Users/SA/opt/anaconda3/lib/python3.9/site-packages (from python-dateutil>=2.7.3->pandas>=0.25->pytrends) (1.16.0)\n",
      "Requirement already satisfied: idna<4,>=2.5 in /Users/SA/opt/anaconda3/lib/python3.9/site-packages (from requests>=2.0->pytrends) (3.2)\n",
      "Requirement already satisfied: urllib3<1.27,>=1.21.1 in /Users/SA/opt/anaconda3/lib/python3.9/site-packages (from requests>=2.0->pytrends) (1.26.7)\n",
      "Requirement already satisfied: certifi>=2017.4.17 in /Users/SA/opt/anaconda3/lib/python3.9/site-packages (from requests>=2.0->pytrends) (2021.10.8)\n",
      "Requirement already satisfied: charset-normalizer~=2.0.0 in /Users/SA/opt/anaconda3/lib/python3.9/site-packages (from requests>=2.0->pytrends) (2.0.4)\n",
      "Note: you may need to restart the kernel to use updated packages.\n"
     ]
    }
   ],
   "source": [
    "pip install pytrends"
   ]
  },
  {
   "cell_type": "code",
   "execution_count": 21,
   "id": "e0f025ca",
   "metadata": {},
   "outputs": [],
   "source": [
    "import pandas as pd\n",
    "import matplotlib.pyplot as plt"
   ]
  },
  {
   "cell_type": "code",
   "execution_count": 22,
   "id": "0e35a20d",
   "metadata": {
    "collapsed": true
   },
   "outputs": [
    {
     "data": {
      "text/html": [
       "<div>\n",
       "<style scoped>\n",
       "    .dataframe tbody tr th:only-of-type {\n",
       "        vertical-align: middle;\n",
       "    }\n",
       "\n",
       "    .dataframe tbody tr th {\n",
       "        vertical-align: top;\n",
       "    }\n",
       "\n",
       "    .dataframe thead th {\n",
       "        text-align: right;\n",
       "    }\n",
       "</style>\n",
       "<table border=\"1\" class=\"dataframe\">\n",
       "  <thead>\n",
       "    <tr style=\"text-align: right;\">\n",
       "      <th></th>\n",
       "      <th>date</th>\n",
       "      <th>county</th>\n",
       "      <th>state</th>\n",
       "      <th>fips</th>\n",
       "      <th>cases</th>\n",
       "      <th>deaths</th>\n",
       "    </tr>\n",
       "  </thead>\n",
       "  <tbody>\n",
       "    <tr>\n",
       "      <th>0</th>\n",
       "      <td>2020-01-21</td>\n",
       "      <td>Snohomish</td>\n",
       "      <td>Washington</td>\n",
       "      <td>53061.0</td>\n",
       "      <td>1</td>\n",
       "      <td>0.0</td>\n",
       "    </tr>\n",
       "    <tr>\n",
       "      <th>1</th>\n",
       "      <td>2020-01-22</td>\n",
       "      <td>Snohomish</td>\n",
       "      <td>Washington</td>\n",
       "      <td>53061.0</td>\n",
       "      <td>1</td>\n",
       "      <td>0.0</td>\n",
       "    </tr>\n",
       "    <tr>\n",
       "      <th>2</th>\n",
       "      <td>2020-01-23</td>\n",
       "      <td>Snohomish</td>\n",
       "      <td>Washington</td>\n",
       "      <td>53061.0</td>\n",
       "      <td>1</td>\n",
       "      <td>0.0</td>\n",
       "    </tr>\n",
       "    <tr>\n",
       "      <th>3</th>\n",
       "      <td>2020-01-24</td>\n",
       "      <td>Cook</td>\n",
       "      <td>Illinois</td>\n",
       "      <td>17031.0</td>\n",
       "      <td>1</td>\n",
       "      <td>0.0</td>\n",
       "    </tr>\n",
       "    <tr>\n",
       "      <th>4</th>\n",
       "      <td>2020-01-24</td>\n",
       "      <td>Snohomish</td>\n",
       "      <td>Washington</td>\n",
       "      <td>53061.0</td>\n",
       "      <td>1</td>\n",
       "      <td>0.0</td>\n",
       "    </tr>\n",
       "    <tr>\n",
       "      <th>...</th>\n",
       "      <td>...</td>\n",
       "      <td>...</td>\n",
       "      <td>...</td>\n",
       "      <td>...</td>\n",
       "      <td>...</td>\n",
       "      <td>...</td>\n",
       "    </tr>\n",
       "    <tr>\n",
       "      <th>290224</th>\n",
       "      <td>2020-06-30</td>\n",
       "      <td>Sweetwater</td>\n",
       "      <td>Wyoming</td>\n",
       "      <td>56037.0</td>\n",
       "      <td>90</td>\n",
       "      <td>0.0</td>\n",
       "    </tr>\n",
       "    <tr>\n",
       "      <th>290225</th>\n",
       "      <td>2020-06-30</td>\n",
       "      <td>Teton</td>\n",
       "      <td>Wyoming</td>\n",
       "      <td>56039.0</td>\n",
       "      <td>129</td>\n",
       "      <td>1.0</td>\n",
       "    </tr>\n",
       "    <tr>\n",
       "      <th>290226</th>\n",
       "      <td>2020-06-30</td>\n",
       "      <td>Uinta</td>\n",
       "      <td>Wyoming</td>\n",
       "      <td>56041.0</td>\n",
       "      <td>176</td>\n",
       "      <td>0.0</td>\n",
       "    </tr>\n",
       "    <tr>\n",
       "      <th>290227</th>\n",
       "      <td>2020-06-30</td>\n",
       "      <td>Washakie</td>\n",
       "      <td>Wyoming</td>\n",
       "      <td>56043.0</td>\n",
       "      <td>38</td>\n",
       "      <td>5.0</td>\n",
       "    </tr>\n",
       "    <tr>\n",
       "      <th>290228</th>\n",
       "      <td>2020-06-30</td>\n",
       "      <td>Weston</td>\n",
       "      <td>Wyoming</td>\n",
       "      <td>56045.0</td>\n",
       "      <td>2</td>\n",
       "      <td>0.0</td>\n",
       "    </tr>\n",
       "  </tbody>\n",
       "</table>\n",
       "<p>290229 rows × 6 columns</p>\n",
       "</div>"
      ],
      "text/plain": [
       "              date      county       state     fips  cases  deaths\n",
       "0       2020-01-21   Snohomish  Washington  53061.0      1     0.0\n",
       "1       2020-01-22   Snohomish  Washington  53061.0      1     0.0\n",
       "2       2020-01-23   Snohomish  Washington  53061.0      1     0.0\n",
       "3       2020-01-24        Cook    Illinois  17031.0      1     0.0\n",
       "4       2020-01-24   Snohomish  Washington  53061.0      1     0.0\n",
       "...            ...         ...         ...      ...    ...     ...\n",
       "290224  2020-06-30  Sweetwater     Wyoming  56037.0     90     0.0\n",
       "290225  2020-06-30       Teton     Wyoming  56039.0    129     1.0\n",
       "290226  2020-06-30       Uinta     Wyoming  56041.0    176     0.0\n",
       "290227  2020-06-30    Washakie     Wyoming  56043.0     38     5.0\n",
       "290228  2020-06-30      Weston     Wyoming  56045.0      2     0.0\n",
       "\n",
       "[290229 rows x 6 columns]"
      ]
     },
     "execution_count": 22,
     "metadata": {},
     "output_type": "execute_result"
    }
   ],
   "source": [
    "nytimes_2020_Jan_to_Jun = pd.read_csv (r'Data/NYTimes/us-counties-2020-Jan-Jun.txt')\n",
    "nytimes_2020_Jan_to_Jun.to_csv (r'Data/NYTimes/us-counties-2020-Jan-Jun.csv', index=None)\n",
    "nytimes_2020_Jan_to_Jun"
   ]
  },
  {
   "cell_type": "code",
   "execution_count": 24,
   "id": "234649ee",
   "metadata": {},
   "outputs": [
    {
     "data": {
      "text/html": [
       "<div>\n",
       "<style scoped>\n",
       "    .dataframe tbody tr th:only-of-type {\n",
       "        vertical-align: middle;\n",
       "    }\n",
       "\n",
       "    .dataframe tbody tr th {\n",
       "        vertical-align: top;\n",
       "    }\n",
       "\n",
       "    .dataframe thead th {\n",
       "        text-align: right;\n",
       "    }\n",
       "</style>\n",
       "<table border=\"1\" class=\"dataframe\">\n",
       "  <thead>\n",
       "    <tr style=\"text-align: right;\">\n",
       "      <th></th>\n",
       "      <th>date</th>\n",
       "      <th>state</th>\n",
       "      <th>cases</th>\n",
       "      <th>deaths</th>\n",
       "    </tr>\n",
       "  </thead>\n",
       "  <tbody>\n",
       "    <tr>\n",
       "      <th>0</th>\n",
       "      <td>2020-01-21</td>\n",
       "      <td>Washington</td>\n",
       "      <td>1</td>\n",
       "      <td>0.0</td>\n",
       "    </tr>\n",
       "    <tr>\n",
       "      <th>1</th>\n",
       "      <td>2020-01-22</td>\n",
       "      <td>Washington</td>\n",
       "      <td>1</td>\n",
       "      <td>0.0</td>\n",
       "    </tr>\n",
       "    <tr>\n",
       "      <th>2</th>\n",
       "      <td>2020-01-23</td>\n",
       "      <td>Washington</td>\n",
       "      <td>1</td>\n",
       "      <td>0.0</td>\n",
       "    </tr>\n",
       "    <tr>\n",
       "      <th>3</th>\n",
       "      <td>2020-01-24</td>\n",
       "      <td>Illinois</td>\n",
       "      <td>1</td>\n",
       "      <td>0.0</td>\n",
       "    </tr>\n",
       "    <tr>\n",
       "      <th>4</th>\n",
       "      <td>2020-01-24</td>\n",
       "      <td>Washington</td>\n",
       "      <td>1</td>\n",
       "      <td>0.0</td>\n",
       "    </tr>\n",
       "    <tr>\n",
       "      <th>...</th>\n",
       "      <td>...</td>\n",
       "      <td>...</td>\n",
       "      <td>...</td>\n",
       "      <td>...</td>\n",
       "    </tr>\n",
       "    <tr>\n",
       "      <th>290224</th>\n",
       "      <td>2020-06-30</td>\n",
       "      <td>Wyoming</td>\n",
       "      <td>90</td>\n",
       "      <td>0.0</td>\n",
       "    </tr>\n",
       "    <tr>\n",
       "      <th>290225</th>\n",
       "      <td>2020-06-30</td>\n",
       "      <td>Wyoming</td>\n",
       "      <td>129</td>\n",
       "      <td>1.0</td>\n",
       "    </tr>\n",
       "    <tr>\n",
       "      <th>290226</th>\n",
       "      <td>2020-06-30</td>\n",
       "      <td>Wyoming</td>\n",
       "      <td>176</td>\n",
       "      <td>0.0</td>\n",
       "    </tr>\n",
       "    <tr>\n",
       "      <th>290227</th>\n",
       "      <td>2020-06-30</td>\n",
       "      <td>Wyoming</td>\n",
       "      <td>38</td>\n",
       "      <td>5.0</td>\n",
       "    </tr>\n",
       "    <tr>\n",
       "      <th>290228</th>\n",
       "      <td>2020-06-30</td>\n",
       "      <td>Wyoming</td>\n",
       "      <td>2</td>\n",
       "      <td>0.0</td>\n",
       "    </tr>\n",
       "  </tbody>\n",
       "</table>\n",
       "<p>290229 rows × 4 columns</p>\n",
       "</div>"
      ],
      "text/plain": [
       "              date       state  cases  deaths\n",
       "0       2020-01-21  Washington      1     0.0\n",
       "1       2020-01-22  Washington      1     0.0\n",
       "2       2020-01-23  Washington      1     0.0\n",
       "3       2020-01-24    Illinois      1     0.0\n",
       "4       2020-01-24  Washington      1     0.0\n",
       "...            ...         ...    ...     ...\n",
       "290224  2020-06-30     Wyoming     90     0.0\n",
       "290225  2020-06-30     Wyoming    129     1.0\n",
       "290226  2020-06-30     Wyoming    176     0.0\n",
       "290227  2020-06-30     Wyoming     38     5.0\n",
       "290228  2020-06-30     Wyoming      2     0.0\n",
       "\n",
       "[290229 rows x 4 columns]"
      ]
     },
     "execution_count": 24,
     "metadata": {},
     "output_type": "execute_result"
    }
   ],
   "source": [
    "nytimes_2020_Jan_to_Jun.drop(['county', 'fips'], axis=1)"
   ]
  },
  {
   "cell_type": "code",
   "execution_count": 25,
   "id": "ac4b4a05",
   "metadata": {},
   "outputs": [],
   "source": [
    "nytimes_2020_Jan_to_Jun['date'] = pd.to_datetime(nytimes_2020_Jan_to_Jun[\"date\"], infer_datetime_format=True)"
   ]
  },
  {
   "cell_type": "code",
   "execution_count": 26,
   "id": "c3f9bc8a",
   "metadata": {
    "collapsed": true
   },
   "outputs": [
    {
     "data": {
      "text/plain": [
       "0        2020-01-21\n",
       "1        2020-01-22\n",
       "2        2020-01-23\n",
       "3        2020-01-24\n",
       "4        2020-01-24\n",
       "            ...    \n",
       "290224   2020-06-30\n",
       "290225   2020-06-30\n",
       "290226   2020-06-30\n",
       "290227   2020-06-30\n",
       "290228   2020-06-30\n",
       "Name: date, Length: 290229, dtype: datetime64[ns]"
      ]
     },
     "execution_count": 26,
     "metadata": {},
     "output_type": "execute_result"
    }
   ],
   "source": [
    "nytimes_2020_Jan_to_Jun['date']"
   ]
  },
  {
   "cell_type": "code",
   "execution_count": 27,
   "id": "0cd25098",
   "metadata": {},
   "outputs": [
    {
     "data": {
      "text/plain": [
       "131448976"
      ]
     },
     "execution_count": 27,
     "metadata": {},
     "output_type": "execute_result"
    }
   ],
   "source": [
    "nytimes_2020_Jan_to_Jun['cases'].sum()"
   ]
  },
  {
   "cell_type": "code",
   "execution_count": 28,
   "id": "a1c8901f",
   "metadata": {},
   "outputs": [
    {
     "data": {
      "text/plain": [
       "7204945.0"
      ]
     },
     "execution_count": 28,
     "metadata": {},
     "output_type": "execute_result"
    }
   ],
   "source": [
    "nytimes_2020_Jan_to_Jun['deaths'].sum()"
   ]
  },
  {
   "cell_type": "code",
   "execution_count": 29,
   "id": "667b913a",
   "metadata": {},
   "outputs": [
    {
     "data": {
      "image/png": "[encoded data removed]",
      "text/plain": [
       "<Figure size 432x288 with 1 Axes>"
      ]
     },
     "metadata": {
      "needs_background": "light"
     },
     "output_type": "display_data"
    }
   ],
   "source": [
    "#nytimes_2020_Jan_to_Jun.plot(x='date', y='cases', kind = 'line', use_index=True)\n",
    "nytimes_2020_Jan_to_Jun.plot(x='date', kind = 'line', use_index=True)\n",
    "plt.show()"
   ]
  },
  {
   "cell_type": "code",
   "execution_count": null,
   "id": "df569430",
   "metadata": {},
   "outputs": [],
   "source": [
    "from pytrends.request import TrendReq\n",
    "\n",
    "pytrends = TrendReq(hl='en-US', tz=360)\n",
    "# pytrends = TrendReq(hl='en-US', tz=360, timeout=(10,25), proxies=['https://34.203.233.13:80',], retries=2, backoff_factor=0.1, requests_args={'verify':False})"
   ]
  },
  {
   "cell_type": "code",
   "execution_count": null,
   "id": "10e28bcb",
   "metadata": {},
   "outputs": [],
   "source": [
    "kw_list = [\"covid symptoms\",\"covid deaths\",\"covid cases\",\"unemployment benefits\"]\n",
    "pytrends.build_payload(kw_list, cat=0, timeframe='2020-01-01 2022-05-11', geo='US', gprop='')"
   ]
  },
  {
   "cell_type": "markdown",
   "id": "440b8c90",
   "metadata": {},
   "source": [
    "### Interest Over Time"
   ]
  },
  {
   "cell_type": "code",
   "execution_count": null,
   "id": "6b36b0b4",
   "metadata": {},
   "outputs": [],
   "source": [
    "interest = pytrends.interest_over_time()\n",
    "interest"
   ]
  },
  {
   "cell_type": "markdown",
   "id": "a1a8576d",
   "metadata": {},
   "source": [
    "### Historical Hourly Interest"
   ]
  },
  {
   "cell_type": "code",
   "execution_count": null,
   "id": "f2a89909",
   "metadata": {},
   "outputs": [],
   "source": [
    "pytrends.get_historical_interest(kw_list, year_start=2022, month_start=1, day_start=1, hour_start=0, year_end=2022, month_end=2, day_end=1, hour_end=0, cat=0, geo='US', gprop='', sleep=0)"
   ]
  },
  {
   "cell_type": "markdown",
   "id": "1ce53e7c",
   "metadata": {},
   "source": [
    "### Interest by Region"
   ]
  },
  {
   "cell_type": "code",
   "execution_count": null,
   "id": "479dfefd",
   "metadata": {},
   "outputs": [],
   "source": [
    "pytrends.interest_by_region(resolution='REGION', inc_low_vol=True, inc_geo_code=True)"
   ]
  },
  {
   "cell_type": "code",
   "execution_count": null,
   "id": "c2253028",
   "metadata": {},
   "outputs": [],
   "source": [
    "interest.plot(y='covid symptoms', kind = 'line', use_index=True)\n",
    "interest.plot(y='covid deaths', kind = 'line', use_index=True)\n",
    "interest.plot(y='covid cases', kind = 'line', use_index=True)\n",
    "plt.show()\n"
   ]
  },
  {
   "cell_type": "code",
   "execution_count": null,
   "id": "9558caad",
   "metadata": {
    "scrolled": true
   },
   "outputs": [],
   "source": [
    "list(interest.columns)"
   ]
  },
  {
   "cell_type": "code",
   "execution_count": null,
   "id": "1617a9c4",
   "metadata": {},
   "outputs": [],
   "source": []
  }
 ],
 "metadata": {
  "kernelspec": {
   "display_name": "Python 3 (ipykernel)",
   "language": "python",
   "name": "python3"
  },
  "language_info": {
   "codemirror_mode": {
    "name": "ipython",
    "version": 3
   },
   "file_extension": ".py",
   "mimetype": "text/x-python",
   "name": "python",
   "nbconvert_exporter": "python",
   "pygments_lexer": "ipython3",
   "version": "3.9.7"
  }
 },
 "nbformat": 4,
 "nbformat_minor": 5
}
