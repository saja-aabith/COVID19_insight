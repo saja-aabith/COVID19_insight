{
 "cells": [
  {
   "cell_type": "markdown",
   "id": "2dc8d0b7",
   "metadata": {},
   "source": [
    "# <font color=purple>COVID19 Insight</font>"
   ]
  },
  {
   "cell_type": "markdown",
   "id": "0814d26c",
   "metadata": {},
   "source": [
    "## Use Google Trends API to create:\n",
    "### - a data table\n",
    "### - an insights narrative\n",
    "### - to help communicate what you believe to be important information"
   ]
  },
  {
   "cell_type": "code",
   "execution_count": 1,
   "id": "a4c39beb",
   "metadata": {
    "collapsed": true
   },
   "outputs": [
    {
     "name": "stdout",
     "output_type": "stream",
     "text": [
      "Requirement already satisfied: pytrends in /Users/SA/opt/anaconda3/lib/python3.9/site-packages (4.8.0)\n",
      "Requirement already satisfied: pandas>=0.25 in /Users/SA/opt/anaconda3/lib/python3.9/site-packages (from pytrends) (1.3.4)\n",
      "Requirement already satisfied: lxml in /Users/SA/opt/anaconda3/lib/python3.9/site-packages (from pytrends) (4.6.3)\n",
      "Requirement already satisfied: requests>=2.0 in /Users/SA/opt/anaconda3/lib/python3.9/site-packages (from pytrends) (2.26.0)\n",
      "Requirement already satisfied: python-dateutil>=2.7.3 in /Users/SA/opt/anaconda3/lib/python3.9/site-packages (from pandas>=0.25->pytrends) (2.8.2)\n",
      "Requirement already satisfied: pytz>=2017.3 in /Users/SA/opt/anaconda3/lib/python3.9/site-packages (from pandas>=0.25->pytrends) (2021.3)\n",
      "Requirement already satisfied: numpy>=1.17.3 in /Users/SA/opt/anaconda3/lib/python3.9/site-packages (from pandas>=0.25->pytrends) (1.20.3)\n",
      "Requirement already satisfied: six>=1.5 in /Users/SA/opt/anaconda3/lib/python3.9/site-packages (from python-dateutil>=2.7.3->pandas>=0.25->pytrends) (1.16.0)\n",
      "Requirement already satisfied: idna<4,>=2.5 in /Users/SA/opt/anaconda3/lib/python3.9/site-packages (from requests>=2.0->pytrends) (3.2)\n",
      "Requirement already satisfied: certifi>=2017.4.17 in /Users/SA/opt/anaconda3/lib/python3.9/site-packages (from requests>=2.0->pytrends) (2021.10.8)\n",
      "Requirement already satisfied: charset-normalizer~=2.0.0 in /Users/SA/opt/anaconda3/lib/python3.9/site-packages (from requests>=2.0->pytrends) (2.0.4)\n",
      "Requirement already satisfied: urllib3<1.27,>=1.21.1 in /Users/SA/opt/anaconda3/lib/python3.9/site-packages (from requests>=2.0->pytrends) (1.26.7)\n",
      "Note: you may need to restart the kernel to use updated packages.\n"
     ]
    }
   ],
   "source": [
    "pip install pytrends"
   ]
  },
  {
   "cell_type": "markdown",
   "id": "a86f80a8",
   "metadata": {},
   "source": [
    "# <font color=black>------------------------------------------------------------------------------------------</font>"
   ]
  },
  {
   "cell_type": "markdown",
   "id": "ad86a5a3",
   "metadata": {},
   "source": [
    "# <font color=green>Exploring pytrends</font>"
   ]
  },
  {
   "cell_type": "code",
   "execution_count": 108,
   "id": "2d110358",
   "metadata": {},
   "outputs": [],
   "source": [
    "from pytrends.request import TrendReq\n",
    "\n",
    "pytrends = TrendReq(hl='en-US', tz=360)\n",
    "\n",
    "kw_list = [\"/m/01cpyy\",\"covid symptoms\",\"covid cases\",\"unemployment benefits\",\"covid vaccine\"]\n",
    "pytrends.build_payload(kw_list, cat=0, timeframe='2022-01-01 2022-05-11', geo='US', gprop='')"
   ]
  },
  {
   "cell_type": "markdown",
   "id": "39c19150",
   "metadata": {},
   "source": [
    "## Using pytrends to find an encoded topic"
   ]
  },
  {
   "cell_type": "code",
   "execution_count": 109,
   "id": "4798ee97",
   "metadata": {
    "collapsed": true
   },
   "outputs": [
    {
     "data": {
      "text/plain": [
       "[{'mid': '/g/11j8_9sv06', 'title': 'COVID-19 vaccine', 'type': 'Vaccine'},\n",
       " {'mid': '/g/11lgrt_kcf', 'title': 'BNT162b2', 'type': 'Vaccine'},\n",
       " {'mid': '/g/11lll849zh', 'title': 'Nuvaxovid', 'type': 'Vaccine'},\n",
       " {'mid': '/g/11ll0qhr92', 'title': 'Ad26.COV2.S', 'type': 'Vaccine'},\n",
       " {'mid': '/g/11mtfzp621', 'title': 'AZD1222', 'type': 'Vaccine'}]"
      ]
     },
     "execution_count": 109,
     "metadata": {},
     "output_type": "execute_result"
    }
   ],
   "source": [
    "covid_vaccine = pytrends.suggestions('covid vaccine')\n",
    "covid_vaccine"
   ]
  },
  {
   "cell_type": "code",
   "execution_count": 78,
   "id": "0ff0e19c",
   "metadata": {
    "collapsed": true
   },
   "outputs": [
    {
     "data": {
      "text/plain": [
       "[{'mid': '/m/0hzqk8z', 'title': 'Face mask', 'type': 'Topic'},\n",
       " {'mid': '/m/07cs8z',\n",
       "  'title': 'Brian Baldinger',\n",
       "  'type': 'American football offensive lineman'},\n",
       " {'mid': '/g/11n2b_zsts',\n",
       "  'title': '2021 CDU/CSU Facemask Scandal',\n",
       "  'type': 'Topic'}]"
      ]
     },
     "execution_count": 78,
     "metadata": {},
     "output_type": "execute_result"
    }
   ],
   "source": [
    "facemask = pytrends.suggestions('facemask')\n",
    "facemask"
   ]
  },
  {
   "cell_type": "code",
   "execution_count": 84,
   "id": "021d0002",
   "metadata": {
    "collapsed": true
   },
   "outputs": [
    {
     "data": {
      "text/plain": [
       "[{'mid': '/m/080d9yc', 'title': 'Ukraine', 'type': 'TV channel'},\n",
       " {'mid': '/m/03ytp3',\n",
       "  'title': 'Ukraine national football team',\n",
       "  'type': 'Football team'},\n",
       " {'mid': '/m/04xl48',\n",
       "  'title': 'Cabinet of Ministers of Ukraine',\n",
       "  'type': 'Governing body'},\n",
       " {'mid': '/m/0_x6d5x', 'title': 'Russo-Ukrainian War', 'type': 'War'},\n",
       " {'mid': '/m/0zbxgnh',\n",
       "  'title': 'State Savings Bank of Ukraine',\n",
       "  'type': 'Company'}]"
      ]
     },
     "execution_count": 84,
     "metadata": {},
     "output_type": "execute_result"
    }
   ],
   "source": [
    "ukraine = pytrends.suggestions('ukraine')\n",
    "ukraine"
   ]
  },
  {
   "cell_type": "code",
   "execution_count": 105,
   "id": "d8425a65",
   "metadata": {
    "collapsed": true
   },
   "outputs": [
    {
     "data": {
      "text/plain": [
       "[{'mid': '/m/0gfps3', 'title': 'Economy', 'type': 'Topic'},\n",
       " {'mid': '/g/11bc5nww36', 'title': 'Budget', 'type': 'Topic'},\n",
       " {'mid': '/m/0507cl', 'title': 'Stop & Shop', 'type': 'Supermarket company'},\n",
       " {'mid': '/m/02j62', 'title': 'Economics', 'type': 'Field of study'},\n",
       " {'mid': '/m/02z3_0w', 'title': 'Türk Ekonomi Bankası', 'type': 'Corporation'}]"
      ]
     },
     "execution_count": 105,
     "metadata": {},
     "output_type": "execute_result"
    }
   ],
   "source": [
    "economy = pytrends.suggestions('economy')\n",
    "economy"
   ]
  },
  {
   "cell_type": "code",
   "execution_count": 106,
   "id": "8364bef2",
   "metadata": {},
   "outputs": [],
   "source": [
    "kw_list = [\"/m/01cpyy\",\"covid symptoms\",\"covid cases\",\"/m/0_x6d5x\",\"covid vaccine\"]\n",
    "pytrends.build_payload(kw_list, cat=0, timeframe='2022-01-01 2022-05-11', geo='US', gprop='')"
   ]
  },
  {
   "cell_type": "markdown",
   "id": "4c5e6952",
   "metadata": {},
   "source": [
    "## Available pytrend methods"
   ]
  },
  {
   "cell_type": "markdown",
   "id": "b82f00d7",
   "metadata": {},
   "source": [
    "### Interest Over Time"
   ]
  },
  {
   "cell_type": "code",
   "execution_count": 107,
   "id": "37a7d144",
   "metadata": {
    "collapsed": true
   },
   "outputs": [
    {
     "data": {
      "image/png": "[encoded data removed]",
      "text/plain": [
       "<Figure size 432x288 with 1 Axes>"
      ]
     },
     "metadata": {
      "needs_background": "light"
     },
     "output_type": "display_data"
    }
   ],
   "source": [
    "interest = pytrends.interest_over_time()\n",
    "interest\n",
    "\n",
    "interest.plot(kind = 'line', use_index=True)\n",
    "#interest.plot(y='covid deaths', kind = 'line', use_index=True)\n",
    "#interest.plot(y='covid cases', kind = 'line', use_index=True)\n",
    "plt.show()"
   ]
  },
  {
   "cell_type": "markdown",
   "id": "f3f8273e",
   "metadata": {},
   "source": [
    "### Historical Hourly Interest"
   ]
  },
  {
   "cell_type": "code",
   "execution_count": 34,
   "id": "56aa6f23",
   "metadata": {},
   "outputs": [],
   "source": [
    "h_interest = pytrends.get_historical_interest(kw_list, year_start=2022, month_start=1, day_start=1, hour_start=0, year_end=2022, month_end=5, day_end=11, hour_end=0, cat=0, geo='US', gprop='', sleep=0)\n",
    "\n",
    "h_interest.plot(kind = 'line', use_index=True)\n",
    "plt.show()"
   ]
  },
  {
   "cell_type": "markdown",
   "id": "21578054",
   "metadata": {},
   "source": [
    "### Interest by Region"
   ]
  },
  {
   "cell_type": "code",
   "execution_count": 52,
   "id": "b2345c6a",
   "metadata": {
    "collapsed": true
   },
   "outputs": [
    {
     "data": {
      "image/png": "[encoded data removed]",
      "text/plain": [
       "<Figure size 432x288 with 1 Axes>"
      ]
     },
     "metadata": {
      "needs_background": "light"
     },
     "output_type": "display_data"
    }
   ],
   "source": [
    "r_interest = pytrends.interest_by_region(resolution='REGION', inc_low_vol=True, inc_geo_code=True)\n",
    "r_interest\n",
    "\n",
    "r_interest.plot(kind = 'line', use_index=True)\n",
    "plt.show()"
   ]
  },
  {
   "cell_type": "markdown",
   "id": "a525c496",
   "metadata": {},
   "source": [
    "### Trending search"
   ]
  },
  {
   "cell_type": "code",
   "execution_count": 40,
   "id": "094507c4",
   "metadata": {
    "collapsed": true
   },
   "outputs": [
    {
     "data": {
      "text/html": [
       "<div>\n",
       "<style scoped>\n",
       "    .dataframe tbody tr th:only-of-type {\n",
       "        vertical-align: middle;\n",
       "    }\n",
       "\n",
       "    .dataframe tbody tr th {\n",
       "        vertical-align: top;\n",
       "    }\n",
       "\n",
       "    .dataframe thead th {\n",
       "        text-align: right;\n",
       "    }\n",
       "</style>\n",
       "<table border=\"1\" class=\"dataframe\">\n",
       "  <thead>\n",
       "    <tr style=\"text-align: right;\">\n",
       "      <th></th>\n",
       "      <th>0</th>\n",
       "    </tr>\n",
       "  </thead>\n",
       "  <tbody>\n",
       "    <tr>\n",
       "      <th>0</th>\n",
       "      <td>Suns</td>\n",
       "    </tr>\n",
       "    <tr>\n",
       "      <th>1</th>\n",
       "      <td>Inflation</td>\n",
       "    </tr>\n",
       "    <tr>\n",
       "      <th>2</th>\n",
       "      <td>Trevor Strnad</td>\n",
       "    </tr>\n",
       "    <tr>\n",
       "      <th>3</th>\n",
       "      <td>St. Louis Blues</td>\n",
       "    </tr>\n",
       "    <tr>\n",
       "      <th>4</th>\n",
       "      <td>Chelsea</td>\n",
       "    </tr>\n",
       "    <tr>\n",
       "      <th>5</th>\n",
       "      <td>Mike Tyson</td>\n",
       "    </tr>\n",
       "    <tr>\n",
       "      <th>6</th>\n",
       "      <td>Wolves vs Man City</td>\n",
       "    </tr>\n",
       "    <tr>\n",
       "      <th>7</th>\n",
       "      <td>Tampa Bay Lightning</td>\n",
       "    </tr>\n",
       "    <tr>\n",
       "      <th>8</th>\n",
       "      <td>Zara Phythian</td>\n",
       "    </tr>\n",
       "    <tr>\n",
       "      <th>9</th>\n",
       "      <td>Zac Efron</td>\n",
       "    </tr>\n",
       "    <tr>\n",
       "      <th>10</th>\n",
       "      <td>Google I/O</td>\n",
       "    </tr>\n",
       "    <tr>\n",
       "      <th>11</th>\n",
       "      <td>Peloton</td>\n",
       "    </tr>\n",
       "    <tr>\n",
       "      <th>12</th>\n",
       "      <td>Blue Jays vs Yankees</td>\n",
       "    </tr>\n",
       "    <tr>\n",
       "      <th>13</th>\n",
       "      <td>Nebraska governor race</td>\n",
       "    </tr>\n",
       "    <tr>\n",
       "      <th>14</th>\n",
       "      <td>Mandy Moore</td>\n",
       "    </tr>\n",
       "    <tr>\n",
       "      <th>15</th>\n",
       "      <td>Halsey</td>\n",
       "    </tr>\n",
       "    <tr>\n",
       "      <th>16</th>\n",
       "      <td>Shireen Abu aqleh</td>\n",
       "    </tr>\n",
       "    <tr>\n",
       "      <th>17</th>\n",
       "      <td>Clarence Dixon</td>\n",
       "    </tr>\n",
       "    <tr>\n",
       "      <th>18</th>\n",
       "      <td>Miami Heat</td>\n",
       "    </tr>\n",
       "    <tr>\n",
       "      <th>19</th>\n",
       "      <td>LUNA crypto</td>\n",
       "    </tr>\n",
       "  </tbody>\n",
       "</table>\n",
       "</div>"
      ],
      "text/plain": [
       "                         0\n",
       "0                     Suns\n",
       "1                Inflation\n",
       "2            Trevor Strnad\n",
       "3          St. Louis Blues\n",
       "4                  Chelsea\n",
       "5               Mike Tyson\n",
       "6       Wolves vs Man City\n",
       "7      Tampa Bay Lightning\n",
       "8            Zara Phythian\n",
       "9                Zac Efron\n",
       "10              Google I/O\n",
       "11                 Peloton\n",
       "12    Blue Jays vs Yankees\n",
       "13  Nebraska governor race\n",
       "14             Mandy Moore\n",
       "15                  Halsey\n",
       "16       Shireen Abu aqleh\n",
       "17          Clarence Dixon\n",
       "18              Miami Heat\n",
       "19             LUNA crypto"
      ]
     },
     "execution_count": 40,
     "metadata": {},
     "output_type": "execute_result"
    }
   ],
   "source": [
    "trending_search = pytrends.trending_searches(pn='united_states')\n",
    "trending_search\n",
    "\n",
    "trending_search.plot(kind = 'bar', use_index=True)\n",
    "plt.show()"
   ]
  },
  {
   "cell_type": "markdown",
   "id": "63afc6d6",
   "metadata": {},
   "source": [
    "### Realtime search trends"
   ]
  },
  {
   "cell_type": "code",
   "execution_count": 54,
   "id": "836ceccb",
   "metadata": {
    "collapsed": true
   },
   "outputs": [
    {
     "data": {
      "text/html": [
       "<div>\n",
       "<style scoped>\n",
       "    .dataframe tbody tr th:only-of-type {\n",
       "        vertical-align: middle;\n",
       "    }\n",
       "\n",
       "    .dataframe tbody tr th {\n",
       "        vertical-align: top;\n",
       "    }\n",
       "\n",
       "    .dataframe thead th {\n",
       "        text-align: right;\n",
       "    }\n",
       "</style>\n",
       "<table border=\"1\" class=\"dataframe\">\n",
       "  <thead>\n",
       "    <tr style=\"text-align: right;\">\n",
       "      <th></th>\n",
       "      <th>title</th>\n",
       "      <th>entityNames</th>\n",
       "    </tr>\n",
       "  </thead>\n",
       "  <tbody>\n",
       "    <tr>\n",
       "      <th>0</th>\n",
       "      <td>Boston Celtics, Milwaukee Bucks, Giannis Antet...</td>\n",
       "      <td>[Boston Celtics, Milwaukee Bucks, Giannis Ante...</td>\n",
       "    </tr>\n",
       "    <tr>\n",
       "      <th>1</th>\n",
       "      <td>New York Rangers, Pittsburgh Penguins, Nationa...</td>\n",
       "      <td>[New York Rangers, Pittsburgh Penguins, Nation...</td>\n",
       "    </tr>\n",
       "    <tr>\n",
       "      <th>2</th>\n",
       "      <td>Blizzard Entertainment, Battle.net, Diablo, Ov...</td>\n",
       "      <td>[Blizzard Entertainment, Battle.net, Diablo, O...</td>\n",
       "    </tr>\n",
       "    <tr>\n",
       "      <th>3</th>\n",
       "      <td>Laguna Niguel, Wildfire, Orange County, Aliso ...</td>\n",
       "      <td>[Laguna Niguel, Wildfire, Orange County, Aliso...</td>\n",
       "    </tr>\n",
       "    <tr>\n",
       "      <th>4</th>\n",
       "      <td>Severe weather, Tornado, Minnesota, Tornado wa...</td>\n",
       "      <td>[Severe weather, Tornado, Minnesota, Tornado w...</td>\n",
       "    </tr>\n",
       "    <tr>\n",
       "      <th>...</th>\n",
       "      <td>...</td>\n",
       "      <td>...</td>\n",
       "    </tr>\n",
       "    <tr>\n",
       "      <th>84</th>\n",
       "      <td>Ben Simmons, Brooklyn Nets, Philadelphia 76ers...</td>\n",
       "      <td>[Ben Simmons, Brooklyn Nets, Philadelphia 76er...</td>\n",
       "    </tr>\n",
       "    <tr>\n",
       "      <th>85</th>\n",
       "      <td>Goop, Gwyneth Paltrow, Alpaca</td>\n",
       "      <td>[Goop, Gwyneth Paltrow, Alpaca]</td>\n",
       "    </tr>\n",
       "    <tr>\n",
       "      <th>86</th>\n",
       "      <td>Detroit Tigers, Oakland Athletics, MLB</td>\n",
       "      <td>[Detroit Tigers, Oakland Athletics, MLB]</td>\n",
       "    </tr>\n",
       "    <tr>\n",
       "      <th>87</th>\n",
       "      <td>Mankato, Minnesota</td>\n",
       "      <td>[Mankato, Minnesota]</td>\n",
       "    </tr>\n",
       "    <tr>\n",
       "      <th>88</th>\n",
       "      <td>Fred Savage, The Wonder Years, Jason Hervey, A...</td>\n",
       "      <td>[Fred Savage, The Wonder Years, Jason Hervey, ...</td>\n",
       "    </tr>\n",
       "  </tbody>\n",
       "</table>\n",
       "<p>89 rows × 2 columns</p>\n",
       "</div>"
      ],
      "text/plain": [
       "                                                title  \\\n",
       "0   Boston Celtics, Milwaukee Bucks, Giannis Antet...   \n",
       "1   New York Rangers, Pittsburgh Penguins, Nationa...   \n",
       "2   Blizzard Entertainment, Battle.net, Diablo, Ov...   \n",
       "3   Laguna Niguel, Wildfire, Orange County, Aliso ...   \n",
       "4   Severe weather, Tornado, Minnesota, Tornado wa...   \n",
       "..                                                ...   \n",
       "84  Ben Simmons, Brooklyn Nets, Philadelphia 76ers...   \n",
       "85                      Goop, Gwyneth Paltrow, Alpaca   \n",
       "86             Detroit Tigers, Oakland Athletics, MLB   \n",
       "87                                 Mankato, Minnesota   \n",
       "88  Fred Savage, The Wonder Years, Jason Hervey, A...   \n",
       "\n",
       "                                          entityNames  \n",
       "0   [Boston Celtics, Milwaukee Bucks, Giannis Ante...  \n",
       "1   [New York Rangers, Pittsburgh Penguins, Nation...  \n",
       "2   [Blizzard Entertainment, Battle.net, Diablo, O...  \n",
       "3   [Laguna Niguel, Wildfire, Orange County, Aliso...  \n",
       "4   [Severe weather, Tornado, Minnesota, Tornado w...  \n",
       "..                                                ...  \n",
       "84  [Ben Simmons, Brooklyn Nets, Philadelphia 76er...  \n",
       "85                    [Goop, Gwyneth Paltrow, Alpaca]  \n",
       "86           [Detroit Tigers, Oakland Athletics, MLB]  \n",
       "87                               [Mankato, Minnesota]  \n",
       "88  [Fred Savage, The Wonder Years, Jason Hervey, ...  \n",
       "\n",
       "[89 rows x 2 columns]"
      ]
     },
     "execution_count": 54,
     "metadata": {},
     "output_type": "execute_result"
    }
   ],
   "source": [
    "realtime_trends = pytrends.realtime_trending_searches(pn='US')\n",
    "realtime_trends"
   ]
  },
  {
   "cell_type": "markdown",
   "id": "62777ddc",
   "metadata": {},
   "source": [
    "### Top Charts*"
   ]
  },
  {
   "cell_type": "code",
   "execution_count": 60,
   "id": "60a112b2",
   "metadata": {
    "collapsed": true
   },
   "outputs": [
    {
     "data": {
      "text/html": [
       "<div>\n",
       "<style scoped>\n",
       "    .dataframe tbody tr th:only-of-type {\n",
       "        vertical-align: middle;\n",
       "    }\n",
       "\n",
       "    .dataframe tbody tr th {\n",
       "        vertical-align: top;\n",
       "    }\n",
       "\n",
       "    .dataframe thead th {\n",
       "        text-align: right;\n",
       "    }\n",
       "</style>\n",
       "<table border=\"1\" class=\"dataframe\">\n",
       "  <thead>\n",
       "    <tr style=\"text-align: right;\">\n",
       "      <th></th>\n",
       "      <th>title</th>\n",
       "      <th>exploreQuery</th>\n",
       "    </tr>\n",
       "  </thead>\n",
       "  <tbody>\n",
       "    <tr>\n",
       "      <th>0</th>\n",
       "      <td>Election results</td>\n",
       "      <td></td>\n",
       "    </tr>\n",
       "    <tr>\n",
       "      <th>1</th>\n",
       "      <td>Coronavirus</td>\n",
       "      <td></td>\n",
       "    </tr>\n",
       "    <tr>\n",
       "      <th>2</th>\n",
       "      <td>Kobe Bryant</td>\n",
       "      <td></td>\n",
       "    </tr>\n",
       "    <tr>\n",
       "      <th>3</th>\n",
       "      <td>Coronavirus update</td>\n",
       "      <td></td>\n",
       "    </tr>\n",
       "    <tr>\n",
       "      <th>4</th>\n",
       "      <td>Coronavirus symptoms</td>\n",
       "      <td></td>\n",
       "    </tr>\n",
       "    <tr>\n",
       "      <th>5</th>\n",
       "      <td>Zoom</td>\n",
       "      <td></td>\n",
       "    </tr>\n",
       "    <tr>\n",
       "      <th>6</th>\n",
       "      <td>Who is winning the election</td>\n",
       "      <td></td>\n",
       "    </tr>\n",
       "    <tr>\n",
       "      <th>7</th>\n",
       "      <td>Naya Rivera</td>\n",
       "      <td></td>\n",
       "    </tr>\n",
       "    <tr>\n",
       "      <th>8</th>\n",
       "      <td>Chadwick Boseman</td>\n",
       "      <td></td>\n",
       "    </tr>\n",
       "    <tr>\n",
       "      <th>9</th>\n",
       "      <td>PlayStation 5</td>\n",
       "      <td>PS5</td>\n",
       "    </tr>\n",
       "  </tbody>\n",
       "</table>\n",
       "</div>"
      ],
      "text/plain": [
       "                         title exploreQuery\n",
       "0             Election results             \n",
       "1                  Coronavirus             \n",
       "2                  Kobe Bryant             \n",
       "3           Coronavirus update             \n",
       "4         Coronavirus symptoms             \n",
       "5                         Zoom             \n",
       "6  Who is winning the election             \n",
       "7                  Naya Rivera             \n",
       "8             Chadwick Boseman             \n",
       "9                PlayStation 5          PS5"
      ]
     },
     "execution_count": 60,
     "metadata": {},
     "output_type": "execute_result"
    }
   ],
   "source": [
    "top_charts = pytrends.top_charts(2020, hl='en-US', tz=300, geo='US')\n",
    "top_charts"
   ]
  },
  {
   "cell_type": "markdown",
   "id": "b3b8d38f",
   "metadata": {},
   "source": [
    "### Related topics"
   ]
  },
  {
   "cell_type": "code",
   "execution_count": 46,
   "id": "1438a22c",
   "metadata": {
    "collapsed": true
   },
   "outputs": [
    {
     "data": {
      "text/plain": [
       "{}"
      ]
     },
     "execution_count": 46,
     "metadata": {},
     "output_type": "execute_result"
    }
   ],
   "source": [
    "related_topics = pytrends.related_topics()\n",
    "related_topics"
   ]
  },
  {
   "cell_type": "markdown",
   "id": "2e3ac0b3",
   "metadata": {},
   "source": [
    "# <font color=green>Exploring NYTimes dataset</font>\n",
    "#### Source: https://github.com/nytimes/covid-19-data"
   ]
  },
  {
   "cell_type": "code",
   "execution_count": 93,
   "id": "fbcca5cd",
   "metadata": {
    "collapsed": true
   },
   "outputs": [
    {
     "data": {
      "text/html": [
       "<div>\n",
       "<style scoped>\n",
       "    .dataframe tbody tr th:only-of-type {\n",
       "        vertical-align: middle;\n",
       "    }\n",
       "\n",
       "    .dataframe tbody tr th {\n",
       "        vertical-align: top;\n",
       "    }\n",
       "\n",
       "    .dataframe thead th {\n",
       "        text-align: right;\n",
       "    }\n",
       "</style>\n",
       "<table border=\"1\" class=\"dataframe\">\n",
       "  <thead>\n",
       "    <tr style=\"text-align: right;\">\n",
       "      <th></th>\n",
       "      <th>date</th>\n",
       "      <th>county</th>\n",
       "      <th>state</th>\n",
       "      <th>fips</th>\n",
       "      <th>cases</th>\n",
       "      <th>deaths</th>\n",
       "    </tr>\n",
       "  </thead>\n",
       "  <tbody>\n",
       "    <tr>\n",
       "      <th>0</th>\n",
       "      <td>2020-01-21</td>\n",
       "      <td>Snohomish</td>\n",
       "      <td>Washington</td>\n",
       "      <td>53061.0</td>\n",
       "      <td>1</td>\n",
       "      <td>0.0</td>\n",
       "    </tr>\n",
       "    <tr>\n",
       "      <th>1</th>\n",
       "      <td>2020-01-22</td>\n",
       "      <td>Snohomish</td>\n",
       "      <td>Washington</td>\n",
       "      <td>53061.0</td>\n",
       "      <td>1</td>\n",
       "      <td>0.0</td>\n",
       "    </tr>\n",
       "    <tr>\n",
       "      <th>2</th>\n",
       "      <td>2020-01-23</td>\n",
       "      <td>Snohomish</td>\n",
       "      <td>Washington</td>\n",
       "      <td>53061.0</td>\n",
       "      <td>1</td>\n",
       "      <td>0.0</td>\n",
       "    </tr>\n",
       "    <tr>\n",
       "      <th>3</th>\n",
       "      <td>2020-01-24</td>\n",
       "      <td>Cook</td>\n",
       "      <td>Illinois</td>\n",
       "      <td>17031.0</td>\n",
       "      <td>1</td>\n",
       "      <td>0.0</td>\n",
       "    </tr>\n",
       "    <tr>\n",
       "      <th>4</th>\n",
       "      <td>2020-01-24</td>\n",
       "      <td>Snohomish</td>\n",
       "      <td>Washington</td>\n",
       "      <td>53061.0</td>\n",
       "      <td>1</td>\n",
       "      <td>0.0</td>\n",
       "    </tr>\n",
       "    <tr>\n",
       "      <th>...</th>\n",
       "      <td>...</td>\n",
       "      <td>...</td>\n",
       "      <td>...</td>\n",
       "      <td>...</td>\n",
       "      <td>...</td>\n",
       "      <td>...</td>\n",
       "    </tr>\n",
       "    <tr>\n",
       "      <th>884732</th>\n",
       "      <td>2020-12-31</td>\n",
       "      <td>Sweetwater</td>\n",
       "      <td>Wyoming</td>\n",
       "      <td>56037.0</td>\n",
       "      <td>2966</td>\n",
       "      <td>16.0</td>\n",
       "    </tr>\n",
       "    <tr>\n",
       "      <th>884733</th>\n",
       "      <td>2020-12-31</td>\n",
       "      <td>Teton</td>\n",
       "      <td>Wyoming</td>\n",
       "      <td>56039.0</td>\n",
       "      <td>2138</td>\n",
       "      <td>4.0</td>\n",
       "    </tr>\n",
       "    <tr>\n",
       "      <th>884734</th>\n",
       "      <td>2020-12-31</td>\n",
       "      <td>Uinta</td>\n",
       "      <td>Wyoming</td>\n",
       "      <td>56041.0</td>\n",
       "      <td>1558</td>\n",
       "      <td>7.0</td>\n",
       "    </tr>\n",
       "    <tr>\n",
       "      <th>884735</th>\n",
       "      <td>2020-12-31</td>\n",
       "      <td>Washakie</td>\n",
       "      <td>Wyoming</td>\n",
       "      <td>56043.0</td>\n",
       "      <td>780</td>\n",
       "      <td>19.0</td>\n",
       "    </tr>\n",
       "    <tr>\n",
       "      <th>884736</th>\n",
       "      <td>2020-12-31</td>\n",
       "      <td>Weston</td>\n",
       "      <td>Wyoming</td>\n",
       "      <td>56045.0</td>\n",
       "      <td>476</td>\n",
       "      <td>2.0</td>\n",
       "    </tr>\n",
       "  </tbody>\n",
       "</table>\n",
       "<p>884737 rows × 6 columns</p>\n",
       "</div>"
      ],
      "text/plain": [
       "              date      county       state     fips  cases  deaths\n",
       "0       2020-01-21   Snohomish  Washington  53061.0      1     0.0\n",
       "1       2020-01-22   Snohomish  Washington  53061.0      1     0.0\n",
       "2       2020-01-23   Snohomish  Washington  53061.0      1     0.0\n",
       "3       2020-01-24        Cook    Illinois  17031.0      1     0.0\n",
       "4       2020-01-24   Snohomish  Washington  53061.0      1     0.0\n",
       "...            ...         ...         ...      ...    ...     ...\n",
       "884732  2020-12-31  Sweetwater     Wyoming  56037.0   2966    16.0\n",
       "884733  2020-12-31       Teton     Wyoming  56039.0   2138     4.0\n",
       "884734  2020-12-31       Uinta     Wyoming  56041.0   1558     7.0\n",
       "884735  2020-12-31    Washakie     Wyoming  56043.0    780    19.0\n",
       "884736  2020-12-31      Weston     Wyoming  56045.0    476     2.0\n",
       "\n",
       "[884737 rows x 6 columns]"
      ]
     },
     "execution_count": 93,
     "metadata": {},
     "output_type": "execute_result"
    }
   ],
   "source": [
    "import pandas as pd\n",
    "import matplotlib.pyplot as plt"
   ]
  },
  {
   "cell_type": "markdown",
   "id": "223e2ecc",
   "metadata": {},
   "source": [
    "### 2020"
   ]
  },
  {
   "cell_type": "code",
   "execution_count": 94,
   "id": "4325cda4",
   "metadata": {
    "collapsed": true
   },
   "outputs": [
    {
     "data": {
      "image/png": "[encoded data removed]",
      "text/plain": [
       "<Figure size 432x288 with 1 Axes>"
      ]
     },
     "metadata": {
      "needs_background": "light"
     },
     "output_type": "display_data"
    }
   ],
   "source": [
    "nytimes_2020 = pd.read_csv (r'Data/NYTimes/us-counties-2020.txt')\n",
    "nytimes_2020.to_csv (r'Data/NYTimes/us-counties-2020.csv', index=None)\n",
    "nytimes_2020\n",
    "\n",
    "nytimes_2020 = nytimes_2020.drop(['county','fips'], axis=1)\n",
    "\n",
    "nytimes_2020['date'] = pd.to_datetime(nytimes_2020[\"date\"], infer_datetime_format=True)\n",
    "nytimes_2020['date']\n",
    "\n",
    "nytimes_2020['cases'].sum()\n",
    "\n",
    "nytimes_2020['deaths'].sum()\n",
    "\n",
    "nytimes_2020.plot(x='date', kind = 'line', use_index=True)\n",
    "plt.show()"
   ]
  },
  {
   "cell_type": "markdown",
   "id": "a60b52f7",
   "metadata": {},
   "source": [
    "### 2021"
   ]
  },
  {
   "cell_type": "code",
   "execution_count": 96,
   "id": "f16842cc",
   "metadata": {
    "collapsed": true
   },
   "outputs": [
    {
     "data": {
      "text/html": [
       "<div>\n",
       "<style scoped>\n",
       "    .dataframe tbody tr th:only-of-type {\n",
       "        vertical-align: middle;\n",
       "    }\n",
       "\n",
       "    .dataframe tbody tr th {\n",
       "        vertical-align: top;\n",
       "    }\n",
       "\n",
       "    .dataframe thead th {\n",
       "        text-align: right;\n",
       "    }\n",
       "</style>\n",
       "<table border=\"1\" class=\"dataframe\">\n",
       "  <thead>\n",
       "    <tr style=\"text-align: right;\">\n",
       "      <th></th>\n",
       "      <th>date</th>\n",
       "      <th>county</th>\n",
       "      <th>state</th>\n",
       "      <th>fips</th>\n",
       "      <th>cases</th>\n",
       "      <th>deaths</th>\n",
       "    </tr>\n",
       "  </thead>\n",
       "  <tbody>\n",
       "    <tr>\n",
       "      <th>0</th>\n",
       "      <td>2021-01-01</td>\n",
       "      <td>Autauga</td>\n",
       "      <td>Alabama</td>\n",
       "      <td>1001.0</td>\n",
       "      <td>4239</td>\n",
       "      <td>50.0</td>\n",
       "    </tr>\n",
       "    <tr>\n",
       "      <th>1</th>\n",
       "      <td>2021-01-01</td>\n",
       "      <td>Baldwin</td>\n",
       "      <td>Alabama</td>\n",
       "      <td>1003.0</td>\n",
       "      <td>13823</td>\n",
       "      <td>169.0</td>\n",
       "    </tr>\n",
       "    <tr>\n",
       "      <th>2</th>\n",
       "      <td>2021-01-01</td>\n",
       "      <td>Barbour</td>\n",
       "      <td>Alabama</td>\n",
       "      <td>1005.0</td>\n",
       "      <td>1517</td>\n",
       "      <td>33.0</td>\n",
       "    </tr>\n",
       "    <tr>\n",
       "      <th>3</th>\n",
       "      <td>2021-01-01</td>\n",
       "      <td>Bibb</td>\n",
       "      <td>Alabama</td>\n",
       "      <td>1007.0</td>\n",
       "      <td>1854</td>\n",
       "      <td>46.0</td>\n",
       "    </tr>\n",
       "    <tr>\n",
       "      <th>4</th>\n",
       "      <td>2021-01-01</td>\n",
       "      <td>Blount</td>\n",
       "      <td>Alabama</td>\n",
       "      <td>1009.0</td>\n",
       "      <td>4693</td>\n",
       "      <td>63.0</td>\n",
       "    </tr>\n",
       "    <tr>\n",
       "      <th>...</th>\n",
       "      <td>...</td>\n",
       "      <td>...</td>\n",
       "      <td>...</td>\n",
       "      <td>...</td>\n",
       "      <td>...</td>\n",
       "      <td>...</td>\n",
       "    </tr>\n",
       "    <tr>\n",
       "      <th>1185368</th>\n",
       "      <td>2021-12-31</td>\n",
       "      <td>Sweetwater</td>\n",
       "      <td>Wyoming</td>\n",
       "      <td>56037.0</td>\n",
       "      <td>8320</td>\n",
       "      <td>107.0</td>\n",
       "    </tr>\n",
       "    <tr>\n",
       "      <th>1185369</th>\n",
       "      <td>2021-12-31</td>\n",
       "      <td>Teton</td>\n",
       "      <td>Wyoming</td>\n",
       "      <td>56039.0</td>\n",
       "      <td>5950</td>\n",
       "      <td>14.0</td>\n",
       "    </tr>\n",
       "    <tr>\n",
       "      <th>1185370</th>\n",
       "      <td>2021-12-31</td>\n",
       "      <td>Uinta</td>\n",
       "      <td>Wyoming</td>\n",
       "      <td>56041.0</td>\n",
       "      <td>4154</td>\n",
       "      <td>31.0</td>\n",
       "    </tr>\n",
       "    <tr>\n",
       "      <th>1185371</th>\n",
       "      <td>2021-12-31</td>\n",
       "      <td>Washakie</td>\n",
       "      <td>Wyoming</td>\n",
       "      <td>56043.0</td>\n",
       "      <td>1879</td>\n",
       "      <td>37.0</td>\n",
       "    </tr>\n",
       "    <tr>\n",
       "      <th>1185372</th>\n",
       "      <td>2021-12-31</td>\n",
       "      <td>Weston</td>\n",
       "      <td>Wyoming</td>\n",
       "      <td>56045.0</td>\n",
       "      <td>1254</td>\n",
       "      <td>14.0</td>\n",
       "    </tr>\n",
       "  </tbody>\n",
       "</table>\n",
       "<p>1185373 rows × 6 columns</p>\n",
       "</div>"
      ],
      "text/plain": [
       "               date      county    state     fips  cases  deaths\n",
       "0        2021-01-01     Autauga  Alabama   1001.0   4239    50.0\n",
       "1        2021-01-01     Baldwin  Alabama   1003.0  13823   169.0\n",
       "2        2021-01-01     Barbour  Alabama   1005.0   1517    33.0\n",
       "3        2021-01-01        Bibb  Alabama   1007.0   1854    46.0\n",
       "4        2021-01-01      Blount  Alabama   1009.0   4693    63.0\n",
       "...             ...         ...      ...      ...    ...     ...\n",
       "1185368  2021-12-31  Sweetwater  Wyoming  56037.0   8320   107.0\n",
       "1185369  2021-12-31       Teton  Wyoming  56039.0   5950    14.0\n",
       "1185370  2021-12-31       Uinta  Wyoming  56041.0   4154    31.0\n",
       "1185371  2021-12-31    Washakie  Wyoming  56043.0   1879    37.0\n",
       "1185372  2021-12-31      Weston  Wyoming  56045.0   1254    14.0\n",
       "\n",
       "[1185373 rows x 6 columns]"
      ]
     },
     "execution_count": 96,
     "metadata": {},
     "output_type": "execute_result"
    }
   ],
   "source": [
    "nytimes_2021 = pd.read_csv (r'Data/NYTimes/us-counties-2021.txt')\n",
    "nytimes_2021.to_csv (r'Data/NYTimes/us-counties-2021.csv', index=None)\n",
    "nytimes_2021\n",
    "\n",
    "nytimes_2021 = nytimes_2021.drop(['county','fips'], axis=1)\n",
    "\n",
    "nytimes_2021['date'] = pd.to_datetime(nytimes_2021[\"date\"], infer_datetime_format=True)\n",
    "nytimes_2021['date']\n",
    "\n",
    "nytimes_2021['cases'].sum()\n",
    "\n",
    "nytimes_2021['deaths'].sum()\n",
    "\n",
    "nytimes_2021.plot(x='date', kind = 'line', use_index=True)\n",
    "plt.show()"
   ]
  },
  {
   "cell_type": "markdown",
   "id": "d773f83c",
   "metadata": {},
   "source": [
    "### 2022"
   ]
  },
  {
   "cell_type": "code",
   "execution_count": 100,
   "id": "82e190b5",
   "metadata": {
    "collapsed": true
   },
   "outputs": [
    {
     "data": {
      "image/png": "[encoded data removed]",
      "text/plain": [
       "<Figure size 432x288 with 1 Axes>"
      ]
     },
     "metadata": {
      "needs_background": "light"
     },
     "output_type": "display_data"
    }
   ],
   "source": [
    "nytimes_2022 = pd.read_csv (r'Data/NYTimes/us-counties-2022-Jan-May.txt')\n",
    "nytimes_2022.to_csv (r'Data/NYTimes/us-counties-2022-Jan-May.csv', index=None)\n",
    "nytimes_2022\n",
    "\n",
    "nytimes_2022 = nytimes_2022.drop(['county','fips'], axis=1)\n",
    "\n",
    "nytimes_2022['date'] = pd.to_datetime(nytimes_2022[\"date\"], infer_datetime_format=True)\n",
    "nytimes_2022['date']\n",
    "\n",
    "nytimes_2022['cases'].sum()\n",
    "\n",
    "nytimes_2022['deaths'].sum()\n",
    "\n",
    "nytimes_2022.plot(x='date', kind = 'line', use_index=True)\n",
    "plt.show()"
   ]
  },
  {
   "cell_type": "markdown",
   "id": "40fdf0d6",
   "metadata": {},
   "source": [
    "# <font color=black>------------------------------------------------------------------------------------------</font>"
   ]
  },
  {
   "cell_type": "code",
   "execution_count": null,
   "id": "d1745409",
   "metadata": {},
   "outputs": [],
   "source": []
  }
 ],
 "metadata": {
  "kernelspec": {
   "display_name": "Python 3 (ipykernel)",
   "language": "python",
   "name": "python3"
  },
  "language_info": {
   "codemirror_mode": {
    "name": "ipython",
    "version": 3
   },
   "file_extension": ".py",
   "mimetype": "text/x-python",
   "name": "python",
   "nbconvert_exporter": "python",
   "pygments_lexer": "ipython3",
   "version": "3.9.7"
  }
 },
 "nbformat": 4,
 "nbformat_minor": 5
}
